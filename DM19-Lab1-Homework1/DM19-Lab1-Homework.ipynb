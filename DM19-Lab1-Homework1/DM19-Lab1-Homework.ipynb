{
 "cells": [
  {
   "cell_type": "markdown",
   "metadata": {},
   "source": [
    "### Student Information\n",
    "Name: 丁寧\n",
    "\n",
    "Student ID: 108134505\n",
    "\n",
    "GitHub ID: niningding"
   ]
  },
  {
   "cell_type": "markdown",
   "metadata": {},
   "source": [
    "---"
   ]
  },
  {
   "cell_type": "markdown",
   "metadata": {},
   "source": [
    "### Instructions"
   ]
  },
  {
   "cell_type": "markdown",
   "metadata": {},
   "source": [
    "1. First: do the **take home** exercises in the [DM19-Lab1-Master Repo](https://github.com/EvaArevalo/DM19-Lab1-Master). You may need to copy some cells from the Lab notebook to this notebook. __This part is worth 20% of your grade.__\n",
    "\n",
    "\n",
    "2. Second: follow the same process from the [DM19-Lab1-Master Repo](https://github.com/EvaArevalo/DM19-Lab1-Master) on **the new dataset**. You don't need to explain all details as we did (some **minimal comments** explaining your code are useful though).  __This part is worth 30% of your grade.__\n",
    "    - Download the [the new dataset](https://archive.ics.uci.edu/ml/datasets/Sentiment+Labelled+Sentences#). The dataset contains a `sentence` and `score` label. Read the specificiations of the dataset for details. \n",
    "    - You are allowed to use and modify the `helper` functions in the folder of the first lab session (notice they may need modification) or create your own.\n",
    "\n",
    "\n",
    "3. Third: please attempt the following tasks on **the new dataset**. __This part is worth 30% of your grade.__\n",
    "    - Generate meaningful **new data visualizations**. Refer to online resources and the Data Mining textbook for inspiration and ideas. \n",
    "    - Generate **TF-IDF features** from the tokens of each text. This will generating a document matrix, however, the weights will be computed differently (using the TF-IDF value of each word per document as opposed to the word frequency). Refer to this Sciki-learn [guide](http://scikit-learn.org/stable/modules/generated/sklearn.feature_extraction.text.TfidfVectorizer.html) .\n",
    "    - Implement a simple **Naive Bayes classifier** that automatically classifies the records into their categories. Use both the TF-IDF features and word frequency features to build two seperate classifiers. Comment on the differences.  Refer to this [article](https://hub.packtpub.com/implementing-3-naive-bayes-classifiers-in-scikit-learn/).\n",
    "\n",
    "\n",
    "4. Fourth: In the lab, we applied each step really quickly just to illustrate how to work with your dataset. There are somethings that are not ideal or the most efficient/meaningful. Each dataset can be habdled differently as well. What are those inefficent parts you noticed? How can you improve the Data preprocessing for these specific datasets? __This part is worth 10% of your grade.__\n",
    "\n",
    "\n",
    "5. Fifth: It's hard for us to follow if your code is messy :'(, so please **tidy up your notebook** and **add minimal comments where needed**. __This part is worth 10% of your grade.__\n",
    "\n",
    "\n",
    "You can submit your homework following these guidelines: [Git Intro & How to hand your homework](https://github.com/EvaArevalo/DM19-Lab1-Master/blob/master/Git%20Intro%20%26%20How%20to%20hand%20your%20homework.ipynb). Make sure to commit and save your changes to your repository __BEFORE the deadline (Oct. 29th 11:59 pm, Tuesday)__. "
   ]
  },
  {
   "cell_type": "markdown",
   "metadata": {},
   "source": [
    "# First part\n",
    "The take home exercises is in another file called **DM-Lab1-Master**, thanks!"
   ]
  },
  {
   "cell_type": "markdown",
   "metadata": {},
   "source": [
    "# Second part"
   ]
  },
  {
   "cell_type": "markdown",
   "metadata": {},
   "source": [
    "## 1. Data Preparation"
   ]
  },
  {
   "cell_type": "code",
   "execution_count": 249,
   "metadata": {},
   "outputs": [],
   "source": [
    "import pandas as pd\n",
    "import numpy as np\n",
    "import helpers.data_mining_helpers as dmh\n",
    "import matplotlib.pyplot as plt\n",
    "import seaborn as sns\n",
    "import plotly\n",
    "import nltk"
   ]
  },
  {
   "cell_type": "code",
   "execution_count": 250,
   "metadata": {},
   "outputs": [],
   "source": [
    "# read the dataset and store them\n",
    "files = ['amazon_cells_labelled.txt', 'imdb_labelled.txt', 'yelp_labelled.txt']\n",
    "\n",
    "sentence = []\n",
    "score = []\n",
    "\n",
    "for item in files:\n",
    "    f = open('sentiment labelled sentences/' + item, 'r', encoding='utf-8')\n",
    "    lines = f.readlines()\n",
    "    for i in lines:\n",
    "        sentence.append(i.split('\\t')[0])\n",
    "        score.append(int(i.split('\\t')[1]))\n",
    "    f.close()"
   ]
  },
  {
   "cell_type": "code",
   "execution_count": 251,
   "metadata": {},
   "outputs": [
    {
     "data": {
      "text/plain": [
       "3000"
      ]
     },
     "execution_count": 251,
     "metadata": {},
     "output_type": "execute_result"
    }
   ],
   "source": [
    "len(sentence)"
   ]
  },
  {
   "cell_type": "code",
   "execution_count": 252,
   "metadata": {},
   "outputs": [
    {
     "data": {
      "text/plain": [
       "3000"
      ]
     },
     "execution_count": 252,
     "metadata": {},
     "output_type": "execute_result"
    }
   ],
   "source": [
    "len(score)"
   ]
  },
  {
   "cell_type": "markdown",
   "metadata": {},
   "source": [
    "## 2. Data Transformation"
   ]
  },
  {
   "cell_type": "code",
   "execution_count": 253,
   "metadata": {},
   "outputs": [],
   "source": [
    "# converting into Pandas dataframe\n",
    "X = pd.DataFrame(data=sentence, columns=['Sentence'])"
   ]
  },
  {
   "cell_type": "code",
   "execution_count": 254,
   "metadata": {},
   "outputs": [],
   "source": [
    "# adding columns\n",
    "X['Score'] = score"
   ]
  },
  {
   "cell_type": "code",
   "execution_count": 255,
   "metadata": {},
   "outputs": [
    {
     "data": {
      "text/html": [
       "<div>\n",
       "<style scoped>\n",
       "    .dataframe tbody tr th:only-of-type {\n",
       "        vertical-align: middle;\n",
       "    }\n",
       "\n",
       "    .dataframe tbody tr th {\n",
       "        vertical-align: top;\n",
       "    }\n",
       "\n",
       "    .dataframe thead th {\n",
       "        text-align: right;\n",
       "    }\n",
       "</style>\n",
       "<table border=\"1\" class=\"dataframe\">\n",
       "  <thead>\n",
       "    <tr style=\"text-align: right;\">\n",
       "      <th></th>\n",
       "      <th>Sentence</th>\n",
       "      <th>Score</th>\n",
       "    </tr>\n",
       "  </thead>\n",
       "  <tbody>\n",
       "    <tr>\n",
       "      <td>0</td>\n",
       "      <td>So there is no way for me to plug it in here i...</td>\n",
       "      <td>0</td>\n",
       "    </tr>\n",
       "    <tr>\n",
       "      <td>1</td>\n",
       "      <td>Good case, Excellent value.</td>\n",
       "      <td>1</td>\n",
       "    </tr>\n",
       "    <tr>\n",
       "      <td>2</td>\n",
       "      <td>Great for the jawbone.</td>\n",
       "      <td>1</td>\n",
       "    </tr>\n",
       "    <tr>\n",
       "      <td>3</td>\n",
       "      <td>Tied to charger for conversations lasting more...</td>\n",
       "      <td>0</td>\n",
       "    </tr>\n",
       "    <tr>\n",
       "      <td>4</td>\n",
       "      <td>The mic is great.</td>\n",
       "      <td>1</td>\n",
       "    </tr>\n",
       "    <tr>\n",
       "      <td>5</td>\n",
       "      <td>I have to jiggle the plug to get it to line up...</td>\n",
       "      <td>0</td>\n",
       "    </tr>\n",
       "    <tr>\n",
       "      <td>6</td>\n",
       "      <td>If you have several dozen or several hundred c...</td>\n",
       "      <td>0</td>\n",
       "    </tr>\n",
       "    <tr>\n",
       "      <td>7</td>\n",
       "      <td>If you are Razr owner...you must have this!</td>\n",
       "      <td>1</td>\n",
       "    </tr>\n",
       "    <tr>\n",
       "      <td>8</td>\n",
       "      <td>Needless to say, I wasted my money.</td>\n",
       "      <td>0</td>\n",
       "    </tr>\n",
       "    <tr>\n",
       "      <td>9</td>\n",
       "      <td>What a waste of money and time!.</td>\n",
       "      <td>0</td>\n",
       "    </tr>\n",
       "  </tbody>\n",
       "</table>\n",
       "</div>"
      ],
      "text/plain": [
       "                                            Sentence  Score\n",
       "0  So there is no way for me to plug it in here i...      0\n",
       "1                        Good case, Excellent value.      1\n",
       "2                             Great for the jawbone.      1\n",
       "3  Tied to charger for conversations lasting more...      0\n",
       "4                                  The mic is great.      1\n",
       "5  I have to jiggle the plug to get it to line up...      0\n",
       "6  If you have several dozen or several hundred c...      0\n",
       "7        If you are Razr owner...you must have this!      1\n",
       "8                Needless to say, I wasted my money.      0\n",
       "9                   What a waste of money and time!.      0"
      ]
     },
     "execution_count": 255,
     "metadata": {},
     "output_type": "execute_result"
    }
   ],
   "source": [
    "X[0:10]"
   ]
  },
  {
   "cell_type": "markdown",
   "metadata": {},
   "source": [
    "## 3. Data Mining using Pandas"
   ]
  },
  {
   "cell_type": "markdown",
   "metadata": {},
   "source": [
    "### missing values"
   ]
  },
  {
   "cell_type": "code",
   "execution_count": 256,
   "metadata": {},
   "outputs": [
    {
     "data": {
      "text/html": [
       "<div>\n",
       "<style scoped>\n",
       "    .dataframe tbody tr th:only-of-type {\n",
       "        vertical-align: middle;\n",
       "    }\n",
       "\n",
       "    .dataframe tbody tr th {\n",
       "        vertical-align: top;\n",
       "    }\n",
       "\n",
       "    .dataframe thead th {\n",
       "        text-align: right;\n",
       "    }\n",
       "</style>\n",
       "<table border=\"1\" class=\"dataframe\">\n",
       "  <thead>\n",
       "    <tr style=\"text-align: right;\">\n",
       "      <th></th>\n",
       "      <th>Sentence</th>\n",
       "      <th>Score</th>\n",
       "    </tr>\n",
       "  </thead>\n",
       "  <tbody>\n",
       "    <tr>\n",
       "      <td>0</td>\n",
       "      <td>False</td>\n",
       "      <td>False</td>\n",
       "    </tr>\n",
       "    <tr>\n",
       "      <td>1</td>\n",
       "      <td>False</td>\n",
       "      <td>False</td>\n",
       "    </tr>\n",
       "    <tr>\n",
       "      <td>2</td>\n",
       "      <td>False</td>\n",
       "      <td>False</td>\n",
       "    </tr>\n",
       "    <tr>\n",
       "      <td>3</td>\n",
       "      <td>False</td>\n",
       "      <td>False</td>\n",
       "    </tr>\n",
       "    <tr>\n",
       "      <td>4</td>\n",
       "      <td>False</td>\n",
       "      <td>False</td>\n",
       "    </tr>\n",
       "    <tr>\n",
       "      <td>...</td>\n",
       "      <td>...</td>\n",
       "      <td>...</td>\n",
       "    </tr>\n",
       "    <tr>\n",
       "      <td>2995</td>\n",
       "      <td>False</td>\n",
       "      <td>False</td>\n",
       "    </tr>\n",
       "    <tr>\n",
       "      <td>2996</td>\n",
       "      <td>False</td>\n",
       "      <td>False</td>\n",
       "    </tr>\n",
       "    <tr>\n",
       "      <td>2997</td>\n",
       "      <td>False</td>\n",
       "      <td>False</td>\n",
       "    </tr>\n",
       "    <tr>\n",
       "      <td>2998</td>\n",
       "      <td>False</td>\n",
       "      <td>False</td>\n",
       "    </tr>\n",
       "    <tr>\n",
       "      <td>2999</td>\n",
       "      <td>False</td>\n",
       "      <td>False</td>\n",
       "    </tr>\n",
       "  </tbody>\n",
       "</table>\n",
       "<p>3000 rows × 2 columns</p>\n",
       "</div>"
      ],
      "text/plain": [
       "      Sentence  Score\n",
       "0        False  False\n",
       "1        False  False\n",
       "2        False  False\n",
       "3        False  False\n",
       "4        False  False\n",
       "...        ...    ...\n",
       "2995     False  False\n",
       "2996     False  False\n",
       "2997     False  False\n",
       "2998     False  False\n",
       "2999     False  False\n",
       "\n",
       "[3000 rows x 2 columns]"
      ]
     },
     "execution_count": 256,
     "metadata": {},
     "output_type": "execute_result"
    }
   ],
   "source": [
    "X.isnull()"
   ]
  },
  {
   "cell_type": "code",
   "execution_count": 257,
   "metadata": {},
   "outputs": [
    {
     "data": {
      "text/plain": [
       "Sentence    (The amoung of missing records is: , 0)\n",
       "Score       (The amoung of missing records is: , 0)\n",
       "dtype: object"
      ]
     },
     "execution_count": 257,
     "metadata": {},
     "output_type": "execute_result"
    }
   ],
   "source": [
    "X.isnull().apply(lambda x: dmh.check_missing_values(x))"
   ]
  },
  {
   "cell_type": "code",
   "execution_count": 258,
   "metadata": {},
   "outputs": [
    {
     "data": {
      "text/plain": [
       "0       False\n",
       "1       False\n",
       "2       False\n",
       "3       False\n",
       "4       False\n",
       "        ...  \n",
       "2995    False\n",
       "2996    False\n",
       "2997    False\n",
       "2998    False\n",
       "2999    False\n",
       "Length: 3000, dtype: bool"
      ]
     },
     "execution_count": 258,
     "metadata": {},
     "output_type": "execute_result"
    }
   ],
   "source": [
    "# duplicate data\n",
    "X.duplicated()"
   ]
  },
  {
   "cell_type": "code",
   "execution_count": 259,
   "metadata": {},
   "outputs": [
    {
     "data": {
      "text/plain": [
       "17"
      ]
     },
     "execution_count": 259,
     "metadata": {},
     "output_type": "execute_result"
    }
   ],
   "source": [
    "sum(X.duplicated('Sentence'))"
   ]
  },
  {
   "cell_type": "code",
   "execution_count": 260,
   "metadata": {},
   "outputs": [
    {
     "data": {
      "text/plain": [
       "3000"
      ]
     },
     "execution_count": 260,
     "metadata": {},
     "output_type": "execute_result"
    }
   ],
   "source": [
    "len(X)"
   ]
  },
  {
   "cell_type": "code",
   "execution_count": 261,
   "metadata": {},
   "outputs": [],
   "source": [
    "# keep the first duplicate data\n",
    "# inplace applies changes directly on our dataframe\n",
    "X.drop_duplicates(keep='first', inplace=True) "
   ]
  },
  {
   "cell_type": "code",
   "execution_count": 262,
   "metadata": {},
   "outputs": [
    {
     "data": {
      "text/plain": [
       "2983"
      ]
     },
     "execution_count": 262,
     "metadata": {},
     "output_type": "execute_result"
    }
   ],
   "source": [
    "# 3000-17=2983\n",
    "len(X)"
   ]
  },
  {
   "cell_type": "markdown",
   "metadata": {},
   "source": [
    "## 4. Data Preprocessing"
   ]
  },
  {
   "cell_type": "markdown",
   "metadata": {},
   "source": [
    "### sampling"
   ]
  },
  {
   "cell_type": "code",
   "execution_count": 263,
   "metadata": {},
   "outputs": [],
   "source": [
    "X_sample = X.sample(n=1000)"
   ]
  },
  {
   "cell_type": "code",
   "execution_count": 264,
   "metadata": {},
   "outputs": [
    {
     "data": {
      "text/plain": [
       "1000"
      ]
     },
     "execution_count": 264,
     "metadata": {},
     "output_type": "execute_result"
    }
   ],
   "source": [
    "len(X_sample)"
   ]
  },
  {
   "cell_type": "code",
   "execution_count": 265,
   "metadata": {},
   "outputs": [
    {
     "data": {
      "text/html": [
       "<div>\n",
       "<style scoped>\n",
       "    .dataframe tbody tr th:only-of-type {\n",
       "        vertical-align: middle;\n",
       "    }\n",
       "\n",
       "    .dataframe tbody tr th {\n",
       "        vertical-align: top;\n",
       "    }\n",
       "\n",
       "    .dataframe thead th {\n",
       "        text-align: right;\n",
       "    }\n",
       "</style>\n",
       "<table border=\"1\" class=\"dataframe\">\n",
       "  <thead>\n",
       "    <tr style=\"text-align: right;\">\n",
       "      <th></th>\n",
       "      <th>Sentence</th>\n",
       "      <th>Score</th>\n",
       "    </tr>\n",
       "  </thead>\n",
       "  <tbody>\n",
       "    <tr>\n",
       "      <td>436</td>\n",
       "      <td>I wish I could return the unit and get back my...</td>\n",
       "      <td>0</td>\n",
       "    </tr>\n",
       "    <tr>\n",
       "      <td>370</td>\n",
       "      <td>I'll be drivng along, and my headset starts ri...</td>\n",
       "      <td>0</td>\n",
       "    </tr>\n",
       "    <tr>\n",
       "      <td>765</td>\n",
       "      <td>in addition it feels &amp;amp; looks as if the pho...</td>\n",
       "      <td>0</td>\n",
       "    </tr>\n",
       "    <tr>\n",
       "      <td>187</td>\n",
       "      <td>Great phone!.</td>\n",
       "      <td>1</td>\n",
       "    </tr>\n",
       "    <tr>\n",
       "      <td>1442</td>\n",
       "      <td>I let my girlfriend talk me into seeing this -...</td>\n",
       "      <td>0</td>\n",
       "    </tr>\n",
       "    <tr>\n",
       "      <td>617</td>\n",
       "      <td>However I needed some better instructions.</td>\n",
       "      <td>0</td>\n",
       "    </tr>\n",
       "    <tr>\n",
       "      <td>1731</td>\n",
       "      <td>It handles some tough issues with dignity and ...</td>\n",
       "      <td>1</td>\n",
       "    </tr>\n",
       "    <tr>\n",
       "      <td>2339</td>\n",
       "      <td>There is nothing authentic about this place.</td>\n",
       "      <td>0</td>\n",
       "    </tr>\n",
       "    <tr>\n",
       "      <td>362</td>\n",
       "      <td>It is light, easy to use, and has very clear r...</td>\n",
       "      <td>1</td>\n",
       "    </tr>\n",
       "    <tr>\n",
       "      <td>1430</td>\n",
       "      <td>I hate writing bad reviews about films - espec...</td>\n",
       "      <td>0</td>\n",
       "    </tr>\n",
       "  </tbody>\n",
       "</table>\n",
       "</div>"
      ],
      "text/plain": [
       "                                               Sentence  Score\n",
       "436   I wish I could return the unit and get back my...      0\n",
       "370   I'll be drivng along, and my headset starts ri...      0\n",
       "765   in addition it feels &amp; looks as if the pho...      0\n",
       "187                                       Great phone!.      1\n",
       "1442  I let my girlfriend talk me into seeing this -...      0\n",
       "617          However I needed some better instructions.      0\n",
       "1731  It handles some tough issues with dignity and ...      1\n",
       "2339       There is nothing authentic about this place.      0\n",
       "362   It is light, easy to use, and has very clear r...      1\n",
       "1430  I hate writing bad reviews about films - espec...      0"
      ]
     },
     "execution_count": 265,
     "metadata": {},
     "output_type": "execute_result"
    }
   ],
   "source": [
    "X_sample[0:10]"
   ]
  },
  {
   "cell_type": "markdown",
   "metadata": {},
   "source": [
    "### plot"
   ]
  },
  {
   "cell_type": "code",
   "execution_count": 266,
   "metadata": {},
   "outputs": [],
   "source": [
    "%matplotlib inline"
   ]
  },
  {
   "cell_type": "code",
   "execution_count": 267,
   "metadata": {},
   "outputs": [
    {
     "name": "stdout",
     "output_type": "stream",
     "text": [
      "SWEETEST PHONE!!!                                                                                       1\n",
      "I don't think you will be disappointed.                                                                 1\n",
      "I ordered Albondigas soup - which was just warm - and tasted like tomato soup with frozen meatballs.    1\n",
      "GO AND SEE IT!                                                                                          1\n",
      "I LOVED it!                                                                                             1\n",
      "                                                                                                       ..\n",
      "I usually don't like headbands but this one is very lightweight & doesn't mess up my hair.              1\n",
      "The movie was very interesting from beginning to the end.                                               1\n",
      "Worst martini ever!                                                                                     1\n",
      "Nargile - I think you are great.                                                                        1\n",
      "AFTER ARGUING WITH VERIZON REGARDING THE DROPPED CALLS WE RETURNED THE PHONES AFTER TWO DAYS.           1\n",
      "Name: Sentence, Length: 2983, dtype: int64\n"
     ]
    }
   ],
   "source": [
    "print(X.Sentence.value_counts())"
   ]
  },
  {
   "cell_type": "code",
   "execution_count": 268,
   "metadata": {},
   "outputs": [
    {
     "data": {
      "image/png": "[encoded data removed]",
      "text/plain": [
       "<Figure size 576x432 with 1 Axes>"
      ]
     },
     "metadata": {
      "needs_background": "light"
     },
     "output_type": "display_data"
    }
   ],
   "source": [
    "fig, axes = plt.subplots(figsize=(8,6))\n",
    "x = np.arange(2) \n",
    "width = 0.3\n",
    "\n",
    "p1 = axes.bar(x - width/2, [len(X.loc[X['Score'] == 1]), len(X.loc[X['Score'] == 0])], width, label='X')\n",
    "p2 = axes.bar(x + width/2, [len(X_sample.loc[X['Score'] == 1]), len(X_sample.loc[X['Score'] == 0])], width, label='X_sample')\n",
    "\n",
    "axes.set_title('Category distribution')\n",
    "axes.set_xticks(x)\n",
    "axes.set_xticklabels(['positive','negative'])\n",
    "axes.legend()\n",
    "\n",
    "plt.show()"
   ]
  },
  {
   "cell_type": "markdown",
   "metadata": {},
   "source": [
    "### feature creation"
   ]
  },
  {
   "cell_type": "code",
   "execution_count": 269,
   "metadata": {},
   "outputs": [],
   "source": [
    "X['unigrams'] = X['Sentence'].apply(lambda x: dmh.tokenize_text(x))"
   ]
  },
  {
   "cell_type": "code",
   "execution_count": 270,
   "metadata": {},
   "outputs": [
    {
     "data": {
      "text/plain": [
       "0    [So, there, is, no, way, for, me, to, plug, it...\n",
       "1                 [Good, case, ,, Excellent, value, .]\n",
       "2                        [Great, for, the, jawbone, .]\n",
       "3    [Tied, to, charger, for, conversations, lastin...\n",
       "4                             [The, mic, is, great, .]\n",
       "Name: unigrams, dtype: object"
      ]
     },
     "execution_count": 270,
     "metadata": {},
     "output_type": "execute_result"
    }
   ],
   "source": [
    "X[0:5]['unigrams']"
   ]
  },
  {
   "cell_type": "code",
   "execution_count": 271,
   "metadata": {},
   "outputs": [
    {
     "data": {
      "text/html": [
       "<div>\n",
       "<style scoped>\n",
       "    .dataframe tbody tr th:only-of-type {\n",
       "        vertical-align: middle;\n",
       "    }\n",
       "\n",
       "    .dataframe tbody tr th {\n",
       "        vertical-align: top;\n",
       "    }\n",
       "\n",
       "    .dataframe thead th {\n",
       "        text-align: right;\n",
       "    }\n",
       "</style>\n",
       "<table border=\"1\" class=\"dataframe\">\n",
       "  <thead>\n",
       "    <tr style=\"text-align: right;\">\n",
       "      <th></th>\n",
       "      <th>Sentence</th>\n",
       "      <th>Score</th>\n",
       "      <th>unigrams</th>\n",
       "    </tr>\n",
       "  </thead>\n",
       "  <tbody>\n",
       "    <tr>\n",
       "      <td>0</td>\n",
       "      <td>So there is no way for me to plug it in here i...</td>\n",
       "      <td>0</td>\n",
       "      <td>[So, there, is, no, way, for, me, to, plug, it...</td>\n",
       "    </tr>\n",
       "    <tr>\n",
       "      <td>1</td>\n",
       "      <td>Good case, Excellent value.</td>\n",
       "      <td>1</td>\n",
       "      <td>[Good, case, ,, Excellent, value, .]</td>\n",
       "    </tr>\n",
       "    <tr>\n",
       "      <td>2</td>\n",
       "      <td>Great for the jawbone.</td>\n",
       "      <td>1</td>\n",
       "      <td>[Great, for, the, jawbone, .]</td>\n",
       "    </tr>\n",
       "    <tr>\n",
       "      <td>3</td>\n",
       "      <td>Tied to charger for conversations lasting more...</td>\n",
       "      <td>0</td>\n",
       "      <td>[Tied, to, charger, for, conversations, lastin...</td>\n",
       "    </tr>\n",
       "    <tr>\n",
       "      <td>4</td>\n",
       "      <td>The mic is great.</td>\n",
       "      <td>1</td>\n",
       "      <td>[The, mic, is, great, .]</td>\n",
       "    </tr>\n",
       "  </tbody>\n",
       "</table>\n",
       "</div>"
      ],
      "text/plain": [
       "                                            Sentence  Score  \\\n",
       "0  So there is no way for me to plug it in here i...      0   \n",
       "1                        Good case, Excellent value.      1   \n",
       "2                             Great for the jawbone.      1   \n",
       "3  Tied to charger for conversations lasting more...      0   \n",
       "4                                  The mic is great.      1   \n",
       "\n",
       "                                            unigrams  \n",
       "0  [So, there, is, no, way, for, me, to, plug, it...  \n",
       "1               [Good, case, ,, Excellent, value, .]  \n",
       "2                      [Great, for, the, jawbone, .]  \n",
       "3  [Tied, to, charger, for, conversations, lastin...  \n",
       "4                           [The, mic, is, great, .]  "
      ]
     },
     "execution_count": 271,
     "metadata": {},
     "output_type": "execute_result"
    }
   ],
   "source": [
    "X[0:5]"
   ]
  },
  {
   "cell_type": "code",
   "execution_count": 272,
   "metadata": {},
   "outputs": [
    {
     "data": {
      "text/plain": [
       "[['So',\n",
       "  'there',\n",
       "  'is',\n",
       "  'no',\n",
       "  'way',\n",
       "  'for',\n",
       "  'me',\n",
       "  'to',\n",
       "  'plug',\n",
       "  'it',\n",
       "  'in',\n",
       "  'here',\n",
       "  'in',\n",
       "  'the',\n",
       "  'US',\n",
       "  'unless',\n",
       "  'I',\n",
       "  'go',\n",
       "  'by',\n",
       "  'a',\n",
       "  'converter',\n",
       "  '.']]"
      ]
     },
     "execution_count": 272,
     "metadata": {},
     "output_type": "execute_result"
    }
   ],
   "source": [
    "list(X[0:1]['unigrams'])"
   ]
  },
  {
   "cell_type": "markdown",
   "metadata": {},
   "source": [
    "### feature subset selection and draw heatmap"
   ]
  },
  {
   "cell_type": "code",
   "execution_count": 273,
   "metadata": {},
   "outputs": [],
   "source": [
    "from sklearn.feature_extraction.text import CountVectorizer\n",
    "\n",
    "#  transorfmed the sentences into a term-document matrix\n",
    "count_vect = CountVectorizer()\n",
    "X_counts = count_vect.fit_transform(X.Sentence)"
   ]
  },
  {
   "cell_type": "code",
   "execution_count": 274,
   "metadata": {},
   "outputs": [
    {
     "data": {
      "text/plain": [
       "['so',\n",
       " 'there',\n",
       " 'is',\n",
       " 'no',\n",
       " 'way',\n",
       " 'for',\n",
       " 'me',\n",
       " 'to',\n",
       " 'plug',\n",
       " 'it',\n",
       " 'in',\n",
       " 'here',\n",
       " 'in',\n",
       " 'the',\n",
       " 'us',\n",
       " 'unless',\n",
       " 'go',\n",
       " 'by',\n",
       " 'converter']"
      ]
     },
     "execution_count": 274,
     "metadata": {},
     "output_type": "execute_result"
    }
   ],
   "source": [
    "# analyze the first record of X dataframe with the analyzer \n",
    "analyze = count_vect.build_analyzer()\n",
    "analyze(\" \".join(list(X[:1].Sentence)))"
   ]
  },
  {
   "cell_type": "code",
   "execution_count": 275,
   "metadata": {},
   "outputs": [
    {
     "data": {
      "text/plain": [
       "(2983, 5155)"
      ]
     },
     "execution_count": 275,
     "metadata": {},
     "output_type": "execute_result"
    }
   ],
   "source": [
    "X_counts.shape"
   ]
  },
  {
   "cell_type": "code",
   "execution_count": 276,
   "metadata": {},
   "outputs": [
    {
     "data": {
      "text/plain": [
       "['00',\n",
       " '10',\n",
       " '100',\n",
       " '11',\n",
       " '12',\n",
       " '13',\n",
       " '15',\n",
       " '15g',\n",
       " '15pm',\n",
       " '17',\n",
       " '18',\n",
       " '18th',\n",
       " '1928',\n",
       " '1947',\n",
       " '1948',\n",
       " '1949',\n",
       " '1971',\n",
       " '1973',\n",
       " '1979',\n",
       " '1980',\n",
       " '1986',\n",
       " '1995',\n",
       " '1998',\n",
       " '20',\n",
       " '2000',\n",
       " '2005',\n",
       " '2006',\n",
       " '2007',\n",
       " '20th',\n",
       " '2160',\n",
       " '23',\n",
       " '24',\n",
       " '25',\n",
       " '2mp',\n",
       " '30',\n",
       " '30s',\n",
       " '325',\n",
       " '35',\n",
       " '350',\n",
       " '375',\n",
       " '3o',\n",
       " '40',\n",
       " '40min',\n",
       " '42',\n",
       " '44',\n",
       " '45',\n",
       " '4s',\n",
       " '4ths',\n",
       " '50',\n",
       " '5020',\n",
       " '510',\n",
       " '5320',\n",
       " '54',\n",
       " '5lb',\n",
       " '680',\n",
       " '70',\n",
       " '70000',\n",
       " '700w',\n",
       " '70s',\n",
       " '80',\n",
       " '80s',\n",
       " '8125',\n",
       " '85',\n",
       " '8525',\n",
       " '8530',\n",
       " '8pm',\n",
       " '90',\n",
       " '95',\n",
       " '99',\n",
       " 'aailiyah',\n",
       " 'abandoned',\n",
       " 'abhor',\n",
       " 'ability',\n",
       " 'able',\n",
       " 'abound',\n",
       " 'about',\n",
       " 'above',\n",
       " 'abroad',\n",
       " 'absolute',\n",
       " 'absolutel',\n",
       " 'absolutely',\n",
       " 'absolutley',\n",
       " 'abstruse',\n",
       " 'abysmal',\n",
       " 'ac',\n",
       " 'academy',\n",
       " 'accents',\n",
       " 'accept',\n",
       " 'acceptable',\n",
       " 'access',\n",
       " 'accessable',\n",
       " 'accessible',\n",
       " 'accessing',\n",
       " 'accessory',\n",
       " 'accessoryone',\n",
       " 'accident',\n",
       " 'accidentally',\n",
       " 'acclaimed',\n",
       " 'accolades',\n",
       " 'accommodations',\n",
       " 'accomodate',\n",
       " 'accompanied',\n",
       " 'according',\n",
       " 'accordingly',\n",
       " 'accountant',\n",
       " 'accurate',\n",
       " 'accurately',\n",
       " 'accused',\n",
       " 'ache',\n",
       " 'achievement',\n",
       " 'achille',\n",
       " 'ackerman',\n",
       " 'acknowledged',\n",
       " 'across',\n",
       " 'act',\n",
       " 'acted',\n",
       " 'acting',\n",
       " 'action',\n",
       " 'actions',\n",
       " 'activate',\n",
       " 'activated',\n",
       " 'activesync',\n",
       " 'actor',\n",
       " 'actors',\n",
       " 'actress',\n",
       " 'actresses',\n",
       " 'actual',\n",
       " 'actually',\n",
       " 'ad',\n",
       " 'adams',\n",
       " 'adaptation',\n",
       " 'adapter',\n",
       " 'adapters',\n",
       " 'add',\n",
       " 'added',\n",
       " 'addition',\n",
       " 'additional',\n",
       " 'address',\n",
       " 'adhesive',\n",
       " 'admins',\n",
       " 'admiration',\n",
       " 'admitted',\n",
       " 'adorable',\n",
       " 'adrift',\n",
       " 'adventure',\n",
       " 'advertised',\n",
       " 'advise',\n",
       " 'aerial',\n",
       " 'aesthetically',\n",
       " 'affected',\n",
       " 'affleck',\n",
       " 'affordable',\n",
       " 'afraid',\n",
       " 'africa',\n",
       " 'after',\n",
       " 'afternoon',\n",
       " 'again',\n",
       " 'against',\n",
       " 'age',\n",
       " 'aged',\n",
       " 'ages',\n",
       " 'aggravating',\n",
       " 'ago',\n",
       " 'agree',\n",
       " 'agreed',\n",
       " 'ahead',\n",
       " 'aimless',\n",
       " 'air',\n",
       " 'aired',\n",
       " 'airline',\n",
       " 'airport',\n",
       " 'akasha',\n",
       " 'akin',\n",
       " 'ala',\n",
       " 'alarm',\n",
       " 'albondigas',\n",
       " 'alert',\n",
       " 'alexander',\n",
       " 'alike',\n",
       " 'all',\n",
       " 'allergy',\n",
       " 'allison',\n",
       " 'allot',\n",
       " 'allow',\n",
       " 'allowing',\n",
       " 'allows',\n",
       " 'almonds',\n",
       " 'almost',\n",
       " 'alone',\n",
       " 'along',\n",
       " 'alongside',\n",
       " 'alot',\n",
       " 'already',\n",
       " 'also',\n",
       " 'although',\n",
       " 'aluminum',\n",
       " 'always',\n",
       " 'am',\n",
       " 'amateurish',\n",
       " 'amaze',\n",
       " 'amazed',\n",
       " 'amazing',\n",
       " 'amazingly',\n",
       " 'amazon',\n",
       " 'ambiance',\n",
       " 'ambience',\n",
       " 'america',\n",
       " 'american',\n",
       " 'americans',\n",
       " 'among',\n",
       " 'amount',\n",
       " 'amp',\n",
       " 'ample',\n",
       " 'amusing',\n",
       " 'an',\n",
       " 'anatomist',\n",
       " 'and',\n",
       " 'andddd',\n",
       " 'angel',\n",
       " 'angela',\n",
       " 'angeles',\n",
       " 'angelina',\n",
       " 'angle',\n",
       " 'angles',\n",
       " 'angry',\n",
       " 'anguish',\n",
       " 'angus',\n",
       " 'animals',\n",
       " 'animated',\n",
       " 'animation',\n",
       " 'anita',\n",
       " 'ann',\n",
       " 'anne',\n",
       " 'anniversary',\n",
       " 'annoying',\n",
       " 'another',\n",
       " 'answer',\n",
       " 'ant',\n",
       " 'antena',\n",
       " 'anthony',\n",
       " 'anti',\n",
       " 'anticipated',\n",
       " 'antithesis',\n",
       " 'any',\n",
       " 'anymore',\n",
       " 'anyone',\n",
       " 'anything',\n",
       " 'anytime',\n",
       " 'anyway',\n",
       " 'anyways',\n",
       " 'anywhere',\n",
       " 'apart',\n",
       " 'apartment',\n",
       " 'apologize',\n",
       " 'apology',\n",
       " 'app',\n",
       " 'appalling',\n",
       " 'apparently',\n",
       " 'appealing',\n",
       " 'appearance',\n",
       " 'appears',\n",
       " 'appetite',\n",
       " 'appetizer',\n",
       " 'appetizers',\n",
       " 'applauded',\n",
       " 'applause',\n",
       " 'apple',\n",
       " 'applifies',\n",
       " 'appointments',\n",
       " 'appreciate',\n",
       " 'appropriate',\n",
       " 'approval',\n",
       " 'apt',\n",
       " 'are',\n",
       " 'area',\n",
       " 'aren',\n",
       " 'arepas',\n",
       " 'argued',\n",
       " 'arguing',\n",
       " 'aria',\n",
       " 'armageddon',\n",
       " 'armand',\n",
       " 'armband',\n",
       " 'around',\n",
       " 'array',\n",
       " 'arrival',\n",
       " 'arrived',\n",
       " 'arrives',\n",
       " 'arriving',\n",
       " 'art',\n",
       " 'article',\n",
       " 'articulated',\n",
       " 'artiness',\n",
       " 'artist',\n",
       " 'artistic',\n",
       " 'artless',\n",
       " 'arts',\n",
       " 'as',\n",
       " 'asia',\n",
       " 'aside',\n",
       " 'ask',\n",
       " 'asked',\n",
       " 'asking',\n",
       " 'asleep',\n",
       " 'aspect',\n",
       " 'aspects',\n",
       " 'ass',\n",
       " 'assante',\n",
       " 'assaulted',\n",
       " 'assistant',\n",
       " 'assumed',\n",
       " 'assure',\n",
       " 'astonishingly',\n",
       " 'astronaut',\n",
       " 'at',\n",
       " 'ate',\n",
       " 'atleast',\n",
       " 'atmosphere',\n",
       " 'atrocious',\n",
       " 'atrocity',\n",
       " 'att',\n",
       " 'attached',\n",
       " 'attack',\n",
       " 'attacked',\n",
       " 'attempt',\n",
       " 'attempted',\n",
       " 'attempting',\n",
       " 'attempts',\n",
       " 'attention',\n",
       " 'attentive',\n",
       " 'attitudes',\n",
       " 'attractive',\n",
       " 'audience',\n",
       " 'audio',\n",
       " 'auju',\n",
       " 'aurvåg',\n",
       " 'austen',\n",
       " 'austere',\n",
       " 'authentic',\n",
       " 'author',\n",
       " 'auto',\n",
       " 'available',\n",
       " 'average',\n",
       " 'aversion',\n",
       " 'avocado',\n",
       " 'avoid',\n",
       " 'avoided',\n",
       " 'avoiding',\n",
       " 'award',\n",
       " 'awarded',\n",
       " 'awards',\n",
       " 'away',\n",
       " 'awesome',\n",
       " 'awful',\n",
       " 'awkward',\n",
       " 'awkwardly',\n",
       " 'awsome',\n",
       " 'ayce',\n",
       " 'aye',\n",
       " 'az',\n",
       " 'baaaaaad',\n",
       " 'baba',\n",
       " 'babbling',\n",
       " 'babie',\n",
       " 'baby',\n",
       " 'babysitting',\n",
       " 'bachi',\n",
       " 'back',\n",
       " 'backdrop',\n",
       " 'backed',\n",
       " 'background',\n",
       " 'backlight',\n",
       " 'bacon',\n",
       " 'bad',\n",
       " 'badly',\n",
       " 'bag',\n",
       " 'bagels',\n",
       " 'bailey',\n",
       " 'bakery',\n",
       " 'baklava',\n",
       " 'balance',\n",
       " 'balanced',\n",
       " 'ball',\n",
       " 'ballet',\n",
       " 'balls',\n",
       " 'bamboo',\n",
       " 'banana',\n",
       " 'band',\n",
       " 'bank',\n",
       " 'bar',\n",
       " 'barcelona',\n",
       " 'bare',\n",
       " 'barely',\n",
       " 'bargain',\n",
       " 'barking',\n",
       " 'barney',\n",
       " 'barren',\n",
       " 'bars',\n",
       " 'bartender',\n",
       " 'bartenders',\n",
       " 'baseball',\n",
       " 'based',\n",
       " 'basement',\n",
       " 'basic',\n",
       " 'basically',\n",
       " 'bat',\n",
       " 'batch',\n",
       " 'bates',\n",
       " 'bathroom',\n",
       " 'bathrooms',\n",
       " 'batter',\n",
       " 'batteries',\n",
       " 'battery',\n",
       " 'baxendale',\n",
       " 'bay',\n",
       " 'bbq',\n",
       " 'be',\n",
       " 'bean',\n",
       " 'beans',\n",
       " 'bear',\n",
       " 'beat',\n",
       " 'beateous',\n",
       " 'beats',\n",
       " 'beautiful',\n",
       " 'beautifully',\n",
       " 'beauty',\n",
       " 'became',\n",
       " 'because',\n",
       " 'bechard',\n",
       " 'become',\n",
       " 'becomes',\n",
       " 'bed',\n",
       " 'beef',\n",
       " 'been',\n",
       " 'beep',\n",
       " 'beeping',\n",
       " 'beer',\n",
       " 'beers',\n",
       " 'before',\n",
       " 'began',\n",
       " 'begin',\n",
       " 'beginning',\n",
       " 'behind',\n",
       " 'behing',\n",
       " 'behold',\n",
       " 'being',\n",
       " 'bela',\n",
       " 'believable',\n",
       " 'believe',\n",
       " 'believed',\n",
       " 'bell',\n",
       " 'bellagio',\n",
       " 'bellies',\n",
       " 'bells',\n",
       " 'bellucci',\n",
       " 'belly',\n",
       " 'belmondo',\n",
       " 'below',\n",
       " 'belt',\n",
       " 'ben',\n",
       " 'bend',\n",
       " 'bendingly',\n",
       " 'bennett',\n",
       " 'bergen',\n",
       " 'bertolucci',\n",
       " 'besides',\n",
       " 'best',\n",
       " 'better',\n",
       " 'betty',\n",
       " 'between',\n",
       " 'beware',\n",
       " 'beyond',\n",
       " 'bible',\n",
       " 'big',\n",
       " 'bigger',\n",
       " 'biggest',\n",
       " 'bill',\n",
       " 'bills',\n",
       " 'billy',\n",
       " 'binge',\n",
       " 'biographical',\n",
       " 'bipolarity',\n",
       " 'bird',\n",
       " 'biscuit',\n",
       " 'biscuits',\n",
       " 'bisque',\n",
       " 'bit',\n",
       " 'bitches',\n",
       " 'bitchy',\n",
       " 'bite',\n",
       " 'bites',\n",
       " 'bitpim',\n",
       " 'bits',\n",
       " 'black',\n",
       " 'blackberry',\n",
       " 'blacktop',\n",
       " 'blah',\n",
       " 'blake',\n",
       " 'blame',\n",
       " 'bland',\n",
       " 'blandest',\n",
       " 'blandly',\n",
       " 'blanket',\n",
       " 'blare',\n",
       " 'blatant',\n",
       " 'blew',\n",
       " 'block',\n",
       " 'bloddy',\n",
       " 'blood',\n",
       " 'bloodiest',\n",
       " 'bloody',\n",
       " 'blow',\n",
       " 'blown',\n",
       " 'blows',\n",
       " 'blue',\n",
       " 'blueant',\n",
       " 'bluetoooth',\n",
       " 'bluetooth',\n",
       " 'bluetooths',\n",
       " 'blush',\n",
       " 'bmw',\n",
       " 'boasts',\n",
       " 'bob',\n",
       " 'boba',\n",
       " 'bodes',\n",
       " 'body',\n",
       " 'bohemian',\n",
       " 'boiled',\n",
       " 'boiling',\n",
       " 'bold',\n",
       " 'bombardments',\n",
       " 'bond',\n",
       " 'bonding',\n",
       " 'bone',\n",
       " 'bonus',\n",
       " 'bonuses',\n",
       " 'boobs',\n",
       " 'boogeyman',\n",
       " 'book',\n",
       " 'booking',\n",
       " 'boost',\n",
       " 'boot',\n",
       " 'bop',\n",
       " 'bordered',\n",
       " 'borderlines',\n",
       " 'borders',\n",
       " 'bore',\n",
       " 'bored',\n",
       " 'boring',\n",
       " 'borrowed',\n",
       " 'bose',\n",
       " 'boss',\n",
       " 'both',\n",
       " 'bother',\n",
       " 'bothersome',\n",
       " 'bottom',\n",
       " 'bottowm',\n",
       " 'bouchon',\n",
       " 'bought',\n",
       " 'bougth',\n",
       " 'bowl',\n",
       " 'box',\n",
       " 'boxes',\n",
       " 'boy',\n",
       " 'boyfriend',\n",
       " 'boyle',\n",
       " 'boys',\n",
       " 'brain',\n",
       " 'brainsucking',\n",
       " 'brand',\n",
       " 'brat',\n",
       " 'bread',\n",
       " 'break',\n",
       " 'breakage',\n",
       " 'breakfast',\n",
       " 'breaking',\n",
       " 'breaks',\n",
       " 'breeders',\n",
       " 'breeze',\n",
       " 'brevity',\n",
       " 'brian',\n",
       " 'brick',\n",
       " 'brief',\n",
       " 'brigand',\n",
       " 'bright',\n",
       " 'brilliance',\n",
       " 'brilliant',\n",
       " 'brilliantly',\n",
       " 'bring',\n",
       " 'brings',\n",
       " 'brisket',\n",
       " 'broad',\n",
       " 'broke',\n",
       " 'broken',\n",
       " 'brooding',\n",
       " 'brother',\n",
       " 'brought',\n",
       " 'brownish',\n",
       " 'browser',\n",
       " 'browsing',\n",
       " 'brunch',\n",
       " 'bruschetta',\n",
       " 'brushfire',\n",
       " 'brutal',\n",
       " 'bt',\n",
       " 'bt250v',\n",
       " 'bt50',\n",
       " 'bubbling',\n",
       " 'bucks',\n",
       " 'buddy',\n",
       " 'budget',\n",
       " 'buds',\n",
       " 'buffalo',\n",
       " 'buffet',\n",
       " 'buffets',\n",
       " 'bug',\n",
       " 'build',\n",
       " 'builders',\n",
       " 'building',\n",
       " 'buildings',\n",
       " 'built',\n",
       " 'buldogis',\n",
       " 'bulky',\n",
       " 'bullock',\n",
       " 'bully',\n",
       " 'bumpers',\n",
       " 'bunch',\n",
       " 'burger',\n",
       " 'burgers',\n",
       " 'burned',\n",
       " 'burrittos',\n",
       " 'burton',\n",
       " 'bus',\n",
       " 'business',\n",
       " 'businesses',\n",
       " 'bussell',\n",
       " 'busy',\n",
       " 'but',\n",
       " 'butter',\n",
       " 'button',\n",
       " 'buttons',\n",
       " 'buy',\n",
       " 'buyer',\n",
       " 'buyers',\n",
       " 'buying',\n",
       " 'buyit',\n",
       " 'buzzing',\n",
       " 'by',\n",
       " 'bye',\n",
       " 'ca',\n",
       " 'caballero',\n",
       " 'cable',\n",
       " 'cables',\n",
       " 'caesar',\n",
       " 'cafe',\n",
       " 'café',\n",
       " 'cailles',\n",
       " 'cake',\n",
       " 'cakes',\n",
       " 'calamari',\n",
       " 'calendar',\n",
       " 'california',\n",
       " 'call',\n",
       " 'called',\n",
       " 'calligraphy',\n",
       " 'callings',\n",
       " 'calls',\n",
       " 'came',\n",
       " 'camelback',\n",
       " 'cameo',\n",
       " 'camera',\n",
       " 'camerawork',\n",
       " 'camp',\n",
       " 'campy',\n",
       " 'can',\n",
       " 'canada',\n",
       " 'canal',\n",
       " 'cancan',\n",
       " 'cancellation',\n",
       " 'cancelling',\n",
       " 'candace',\n",
       " 'candle',\n",
       " 'cannoli',\n",
       " 'cannot',\n",
       " 'cant',\n",
       " 'capability',\n",
       " 'capacity',\n",
       " 'cape',\n",
       " 'capers',\n",
       " 'captain',\n",
       " 'captured',\n",
       " 'captures',\n",
       " 'car',\n",
       " 'carbs',\n",
       " 'card',\n",
       " 'cardboard',\n",
       " 'cardellini',\n",
       " 'care',\n",
       " 'careful',\n",
       " 'caring',\n",
       " 'carly',\n",
       " 'carol',\n",
       " 'carpaccio',\n",
       " 'carrell',\n",
       " 'carried',\n",
       " 'carriers',\n",
       " 'carries',\n",
       " 'carry',\n",
       " 'cars',\n",
       " 'cart',\n",
       " 'cartel',\n",
       " 'cartoon',\n",
       " 'cartoons',\n",
       " 'case',\n",
       " 'cases',\n",
       " 'cash',\n",
       " 'cashew',\n",
       " 'cashier',\n",
       " 'casing',\n",
       " 'casino',\n",
       " 'cassette',\n",
       " 'cast',\n",
       " 'casted',\n",
       " 'casting',\n",
       " 'cat',\n",
       " 'catching',\n",
       " 'catchy',\n",
       " 'caterpillar',\n",
       " 'caught',\n",
       " 'cause',\n",
       " 'caused',\n",
       " 'causing',\n",
       " 'cavier',\n",
       " 'cbr',\n",
       " 'cds',\n",
       " 'ceases',\n",
       " 'celebration',\n",
       " 'celebrity',\n",
       " 'cell',\n",
       " 'cellphone',\n",
       " 'cellphones',\n",
       " 'cellular',\n",
       " 'celluloid',\n",
       " 'cent',\n",
       " 'center',\n",
       " 'centers',\n",
       " 'central',\n",
       " 'century',\n",
       " 'certain',\n",
       " 'certainly',\n",
       " 'cg',\n",
       " 'cgi',\n",
       " 'chai',\n",
       " 'chains',\n",
       " 'chalkboard',\n",
       " 'challenges',\n",
       " 'chance',\n",
       " 'change',\n",
       " 'changes',\n",
       " 'changing',\n",
       " 'channel',\n",
       " 'char',\n",
       " 'character',\n",
       " 'characterisation',\n",
       " 'characters',\n",
       " 'charcoal',\n",
       " 'charge',\n",
       " 'charged',\n",
       " 'charger',\n",
       " 'chargers',\n",
       " 'charges',\n",
       " 'charging',\n",
       " 'charisma',\n",
       " 'charismatic',\n",
       " 'charles',\n",
       " 'charlie',\n",
       " 'charm',\n",
       " 'charming',\n",
       " 'chase',\n",
       " 'chasing',\n",
       " 'cheap',\n",
       " 'cheaper',\n",
       " 'cheaply',\n",
       " 'cheapy',\n",
       " 'cheated',\n",
       " 'check',\n",
       " 'checked',\n",
       " 'checking',\n",
       " 'cheek',\n",
       " 'cheekbones',\n",
       " 'cheerfull',\n",
       " 'cheerless',\n",
       " 'cheese',\n",
       " 'cheeseburger',\n",
       " 'cheesecurds',\n",
       " 'cheesiness',\n",
       " 'cheesy',\n",
       " 'chef',\n",
       " 'chefs',\n",
       " 'chemistry',\n",
       " 'chewy',\n",
       " 'chick',\n",
       " 'chicken',\n",
       " 'chickens',\n",
       " 'child',\n",
       " 'childhood',\n",
       " 'children',\n",
       " 'childrens',\n",
       " 'chills',\n",
       " 'chilly',\n",
       " 'chimp',\n",
       " 'china',\n",
       " 'chinese',\n",
       " 'chip',\n",
       " 'chipolte',\n",
       " 'chipotle',\n",
       " 'chips',\n",
       " 'chocolate',\n",
       " 'chodorov',\n",
       " 'choice',\n",
       " 'choices',\n",
       " 'choked',\n",
       " 'choose',\n",
       " 'chosen',\n",
       " 'choux',\n",
       " 'chow',\n",
       " 'christmas',\n",
       " 'christopher',\n",
       " 'church',\n",
       " 'cibo',\n",
       " 'cinema',\n",
       " 'cinematic',\n",
       " 'cinematographers',\n",
       " 'cinematography',\n",
       " 'cingulair',\n",
       " 'cingular',\n",
       " 'circumstances',\n",
       " 'claimed',\n",
       " 'clarity',\n",
       " 'class',\n",
       " 'classic',\n",
       " 'classical',\n",
       " 'classics',\n",
       " 'classy',\n",
       " 'clean',\n",
       " 'clear',\n",
       " 'clearer',\n",
       " 'clearly',\n",
       " 'clever',\n",
       " 'cliche',\n",
       " 'clichés',\n",
       " 'clicks',\n",
       " 'clients',\n",
       " 'cliff',\n",
       " 'climax',\n",
       " 'climbing',\n",
       " 'clip',\n",
       " 'clipping',\n",
       " 'clips',\n",
       " 'clock',\n",
       " 'close',\n",
       " 'closed',\n",
       " 'clothes',\n",
       " 'club',\n",
       " 'clue',\n",
       " 'co',\n",
       " 'coach',\n",
       " 'coal',\n",
       " 'coastal',\n",
       " 'coaster',\n",
       " 'cocktail',\n",
       " 'cocktails',\n",
       " 'coconut',\n",
       " 'cod',\n",
       " 'coffee',\n",
       " 'coherent',\n",
       " 'cold',\n",
       " 'colder',\n",
       " 'cole',\n",
       " 'colleague',\n",
       " 'collect',\n",
       " 'collective',\n",
       " 'college',\n",
       " 'color',\n",
       " 'colored',\n",
       " 'colorful',\n",
       " 'colors',\n",
       " 'colours',\n",
       " 'columbo',\n",
       " 'combination',\n",
       " 'combo',\n",
       " 'combos',\n",
       " 'come',\n",
       " 'comedic',\n",
       " 'comedy',\n",
       " 'comes',\n",
       " 'comfort',\n",
       " 'comfortable',\n",
       " 'comfortably',\n",
       " 'comfortible',\n",
       " 'comforting',\n",
       " 'comical',\n",
       " 'coming',\n",
       " 'commands',\n",
       " 'comment',\n",
       " 'commentary',\n",
       " 'commented',\n",
       " 'comments',\n",
       " 'commercial',\n",
       " 'commercials',\n",
       " 'common',\n",
       " 'communicate',\n",
       " 'communication',\n",
       " 'communications',\n",
       " 'community',\n",
       " 'commuter',\n",
       " 'companions',\n",
       " 'company',\n",
       " 'comparably',\n",
       " 'compared',\n",
       " 'compelling',\n",
       " 'compete',\n",
       " 'competent',\n",
       " 'competitors',\n",
       " 'complain',\n",
       " 'complained',\n",
       " 'complaint',\n",
       " 'complaints',\n",
       " 'complete',\n",
       " 'completed',\n",
       " 'completely',\n",
       " 'complex',\n",
       " 'complexity',\n",
       " 'compliments',\n",
       " 'composed',\n",
       " 'composition',\n",
       " 'comprehensible',\n",
       " 'compromise',\n",
       " 'computer',\n",
       " 'con',\n",
       " 'concentrate',\n",
       " 'concept',\n",
       " 'conception',\n",
       " 'conceptually',\n",
       " 'concern',\n",
       " 'concerning',\n",
       " 'concerns',\n",
       " 'concert',\n",
       " 'conclusion',\n",
       " 'concrete',\n",
       " 'condescends',\n",
       " 'condiment',\n",
       " 'conditions',\n",
       " 'confidence',\n",
       " 'configuration',\n",
       " 'confirm',\n",
       " 'conflict',\n",
       " 'confortable',\n",
       " 'confuses',\n",
       " 'confusing',\n",
       " 'connect',\n",
       " 'connected',\n",
       " 'connecting',\n",
       " 'connection',\n",
       " 'connections',\n",
       " 'connery',\n",
       " 'connisseur',\n",
       " 'connoisseur',\n",
       " 'connor',\n",
       " 'conrad',\n",
       " 'consequences',\n",
       " 'consider',\n",
       " 'considerable',\n",
       " 'considered',\n",
       " 'considering',\n",
       " 'considers',\n",
       " 'consistent',\n",
       " 'consolations',\n",
       " 'constant',\n",
       " 'constantine',\n",
       " 'constantly',\n",
       " 'constructed',\n",
       " 'construction',\n",
       " 'consumer',\n",
       " 'contact',\n",
       " 'contacted',\n",
       " 'contacting',\n",
       " 'contacts',\n",
       " 'contain',\n",
       " 'contained',\n",
       " 'containers',\n",
       " 'containing',\n",
       " 'contains',\n",
       " 'content',\n",
       " 'continually',\n",
       " 'continuation',\n",
       " 'continue',\n",
       " 'continues',\n",
       " 'continuity',\n",
       " 'continuously',\n",
       " ...]"
      ]
     },
     "execution_count": 276,
     "metadata": {},
     "output_type": "execute_result"
    }
   ],
   "source": [
    "count_vect.get_feature_names()"
   ]
  },
  {
   "cell_type": "code",
   "execution_count": 277,
   "metadata": {},
   "outputs": [
    {
     "data": {
      "text/html": [
       "<div>\n",
       "<style scoped>\n",
       "    .dataframe tbody tr th:only-of-type {\n",
       "        vertical-align: middle;\n",
       "    }\n",
       "\n",
       "    .dataframe tbody tr th {\n",
       "        vertical-align: top;\n",
       "    }\n",
       "\n",
       "    .dataframe thead th {\n",
       "        text-align: right;\n",
       "    }\n",
       "</style>\n",
       "<table border=\"1\" class=\"dataframe\">\n",
       "  <thead>\n",
       "    <tr style=\"text-align: right;\">\n",
       "      <th></th>\n",
       "      <th>Sentence</th>\n",
       "      <th>Score</th>\n",
       "      <th>unigrams</th>\n",
       "    </tr>\n",
       "  </thead>\n",
       "  <tbody>\n",
       "    <tr>\n",
       "      <td>0</td>\n",
       "      <td>So there is no way for me to plug it in here i...</td>\n",
       "      <td>0</td>\n",
       "      <td>[So, there, is, no, way, for, me, to, plug, it...</td>\n",
       "    </tr>\n",
       "    <tr>\n",
       "      <td>1</td>\n",
       "      <td>Good case, Excellent value.</td>\n",
       "      <td>1</td>\n",
       "      <td>[Good, case, ,, Excellent, value, .]</td>\n",
       "    </tr>\n",
       "    <tr>\n",
       "      <td>2</td>\n",
       "      <td>Great for the jawbone.</td>\n",
       "      <td>1</td>\n",
       "      <td>[Great, for, the, jawbone, .]</td>\n",
       "    </tr>\n",
       "    <tr>\n",
       "      <td>3</td>\n",
       "      <td>Tied to charger for conversations lasting more...</td>\n",
       "      <td>0</td>\n",
       "      <td>[Tied, to, charger, for, conversations, lastin...</td>\n",
       "    </tr>\n",
       "    <tr>\n",
       "      <td>4</td>\n",
       "      <td>The mic is great.</td>\n",
       "      <td>1</td>\n",
       "      <td>[The, mic, is, great, .]</td>\n",
       "    </tr>\n",
       "  </tbody>\n",
       "</table>\n",
       "</div>"
      ],
      "text/plain": [
       "                                            Sentence  Score  \\\n",
       "0  So there is no way for me to plug it in here i...      0   \n",
       "1                        Good case, Excellent value.      1   \n",
       "2                             Great for the jawbone.      1   \n",
       "3  Tied to charger for conversations lasting more...      0   \n",
       "4                                  The mic is great.      1   \n",
       "\n",
       "                                            unigrams  \n",
       "0  [So, there, is, no, way, for, me, to, plug, it...  \n",
       "1               [Good, case, ,, Excellent, value, .]  \n",
       "2                      [Great, for, the, jawbone, .]  \n",
       "3  [Tied, to, charger, for, conversations, lastin...  \n",
       "4                           [The, mic, is, great, .]  "
      ]
     },
     "execution_count": 277,
     "metadata": {},
     "output_type": "execute_result"
    }
   ],
   "source": [
    "X[0:5]"
   ]
  },
  {
   "cell_type": "code",
   "execution_count": 278,
   "metadata": {},
   "outputs": [
    {
     "data": {
      "text/plain": [
       "array([[0, 0, 0, 0, 0, 0, 0, 0, 0, 0, 0, 0, 0, 0, 0, 0, 0, 0, 0, 0, 0, 0,\n",
       "        0, 0, 0, 0, 0, 0, 0, 0, 0, 0, 0, 0, 0, 0, 0, 0, 0, 0, 0, 0, 0, 0,\n",
       "        0, 0, 0, 0, 0, 0, 0, 0, 0, 0, 0, 0, 0, 0, 0, 0, 0, 0, 0, 0, 0, 0,\n",
       "        0, 0, 0, 0, 0, 0, 0, 0, 0, 0, 0, 0, 0, 0, 0, 0, 0, 0, 0, 0, 0, 0,\n",
       "        0, 0, 0, 0, 0, 0, 0, 0, 0, 0, 0, 0],\n",
       "       [0, 0, 0, 0, 0, 0, 0, 0, 0, 0, 0, 0, 0, 0, 0, 0, 0, 0, 0, 0, 0, 0,\n",
       "        0, 0, 0, 0, 0, 0, 0, 0, 0, 0, 0, 0, 0, 0, 0, 0, 0, 0, 0, 0, 0, 0,\n",
       "        0, 0, 0, 0, 0, 0, 0, 0, 0, 0, 0, 0, 0, 0, 0, 0, 0, 0, 0, 0, 0, 0,\n",
       "        0, 0, 0, 0, 0, 0, 0, 0, 0, 0, 0, 0, 0, 0, 0, 0, 0, 0, 0, 0, 0, 0,\n",
       "        0, 0, 0, 0, 0, 0, 0, 0, 0, 0, 0, 0],\n",
       "       [0, 0, 0, 0, 0, 0, 0, 0, 0, 0, 0, 0, 0, 0, 0, 0, 0, 0, 0, 0, 0, 0,\n",
       "        0, 0, 0, 0, 0, 0, 0, 0, 0, 0, 0, 0, 0, 0, 0, 0, 0, 0, 0, 0, 0, 0,\n",
       "        0, 0, 0, 0, 0, 0, 0, 0, 0, 0, 0, 0, 0, 0, 0, 0, 0, 0, 0, 0, 0, 0,\n",
       "        0, 0, 0, 0, 0, 0, 0, 0, 0, 0, 0, 0, 0, 0, 0, 0, 0, 0, 0, 0, 0, 0,\n",
       "        0, 0, 0, 0, 0, 0, 0, 0, 0, 0, 0, 0],\n",
       "       [0, 0, 0, 0, 0, 0, 0, 0, 0, 0, 0, 0, 0, 0, 0, 0, 0, 0, 0, 0, 0, 0,\n",
       "        0, 0, 0, 0, 0, 0, 0, 0, 0, 0, 0, 0, 0, 0, 0, 0, 0, 0, 0, 0, 0, 0,\n",
       "        0, 1, 0, 0, 0, 0, 0, 0, 0, 0, 0, 0, 0, 0, 0, 0, 0, 0, 0, 0, 0, 0,\n",
       "        0, 0, 0, 0, 0, 0, 0, 0, 0, 0, 0, 0, 0, 0, 0, 0, 0, 0, 0, 0, 0, 0,\n",
       "        0, 0, 0, 0, 0, 0, 0, 0, 0, 0, 0, 0],\n",
       "       [0, 0, 0, 0, 0, 0, 0, 0, 0, 0, 0, 0, 0, 0, 0, 0, 0, 0, 0, 0, 0, 0,\n",
       "        0, 0, 0, 0, 0, 0, 0, 0, 0, 0, 0, 0, 0, 0, 0, 0, 0, 0, 0, 0, 0, 0,\n",
       "        0, 0, 0, 0, 0, 0, 0, 0, 0, 0, 0, 0, 0, 0, 0, 0, 0, 0, 0, 0, 0, 0,\n",
       "        0, 0, 0, 0, 0, 0, 0, 0, 0, 0, 0, 0, 0, 0, 0, 0, 0, 0, 0, 0, 0, 0,\n",
       "        0, 0, 0, 0, 0, 0, 0, 0, 0, 0, 0, 0]], dtype=int64)"
      ]
     },
     "execution_count": 278,
     "metadata": {},
     "output_type": "execute_result"
    }
   ],
   "source": [
    "# we convert from sparse array to normal array\n",
    "X_counts[0:5, 0:100].toarray()"
   ]
  },
  {
   "cell_type": "code",
   "execution_count": 279,
   "metadata": {},
   "outputs": [],
   "source": [
    "plot_x = [\"term_\" + str(i) for i in count_vect.get_feature_names()[0:100]]"
   ]
  },
  {
   "cell_type": "code",
   "execution_count": 280,
   "metadata": {},
   "outputs": [
    {
     "data": {
      "text/plain": [
       "['term_00',\n",
       " 'term_10',\n",
       " 'term_100',\n",
       " 'term_11',\n",
       " 'term_12',\n",
       " 'term_13',\n",
       " 'term_15',\n",
       " 'term_15g',\n",
       " 'term_15pm',\n",
       " 'term_17',\n",
       " 'term_18',\n",
       " 'term_18th',\n",
       " 'term_1928',\n",
       " 'term_1947',\n",
       " 'term_1948',\n",
       " 'term_1949',\n",
       " 'term_1971',\n",
       " 'term_1973',\n",
       " 'term_1979',\n",
       " 'term_1980',\n",
       " 'term_1986',\n",
       " 'term_1995',\n",
       " 'term_1998',\n",
       " 'term_20',\n",
       " 'term_2000',\n",
       " 'term_2005',\n",
       " 'term_2006',\n",
       " 'term_2007',\n",
       " 'term_20th',\n",
       " 'term_2160',\n",
       " 'term_23',\n",
       " 'term_24',\n",
       " 'term_25',\n",
       " 'term_2mp',\n",
       " 'term_30',\n",
       " 'term_30s',\n",
       " 'term_325',\n",
       " 'term_35',\n",
       " 'term_350',\n",
       " 'term_375',\n",
       " 'term_3o',\n",
       " 'term_40',\n",
       " 'term_40min',\n",
       " 'term_42',\n",
       " 'term_44',\n",
       " 'term_45',\n",
       " 'term_4s',\n",
       " 'term_4ths',\n",
       " 'term_50',\n",
       " 'term_5020',\n",
       " 'term_510',\n",
       " 'term_5320',\n",
       " 'term_54',\n",
       " 'term_5lb',\n",
       " 'term_680',\n",
       " 'term_70',\n",
       " 'term_70000',\n",
       " 'term_700w',\n",
       " 'term_70s',\n",
       " 'term_80',\n",
       " 'term_80s',\n",
       " 'term_8125',\n",
       " 'term_85',\n",
       " 'term_8525',\n",
       " 'term_8530',\n",
       " 'term_8pm',\n",
       " 'term_90',\n",
       " 'term_95',\n",
       " 'term_99',\n",
       " 'term_aailiyah',\n",
       " 'term_abandoned',\n",
       " 'term_abhor',\n",
       " 'term_ability',\n",
       " 'term_able',\n",
       " 'term_abound',\n",
       " 'term_about',\n",
       " 'term_above',\n",
       " 'term_abroad',\n",
       " 'term_absolute',\n",
       " 'term_absolutel',\n",
       " 'term_absolutely',\n",
       " 'term_absolutley',\n",
       " 'term_abstruse',\n",
       " 'term_abysmal',\n",
       " 'term_ac',\n",
       " 'term_academy',\n",
       " 'term_accents',\n",
       " 'term_accept',\n",
       " 'term_acceptable',\n",
       " 'term_access',\n",
       " 'term_accessable',\n",
       " 'term_accessible',\n",
       " 'term_accessing',\n",
       " 'term_accessory',\n",
       " 'term_accessoryone',\n",
       " 'term_accident',\n",
       " 'term_accidentally',\n",
       " 'term_acclaimed',\n",
       " 'term_accolades',\n",
       " 'term_accommodations']"
      ]
     },
     "execution_count": 280,
     "metadata": {},
     "output_type": "execute_result"
    }
   ],
   "source": [
    "plot_x"
   ]
  },
  {
   "cell_type": "code",
   "execution_count": 281,
   "metadata": {},
   "outputs": [],
   "source": [
    "plot_y = [\"doc_\"+ str(i) for i in list(X.index)[0:20]]"
   ]
  },
  {
   "cell_type": "code",
   "execution_count": 282,
   "metadata": {},
   "outputs": [
    {
     "data": {
      "text/plain": [
       "['doc_0',\n",
       " 'doc_1',\n",
       " 'doc_2',\n",
       " 'doc_3',\n",
       " 'doc_4',\n",
       " 'doc_5',\n",
       " 'doc_6',\n",
       " 'doc_7',\n",
       " 'doc_8',\n",
       " 'doc_9',\n",
       " 'doc_10',\n",
       " 'doc_11',\n",
       " 'doc_12',\n",
       " 'doc_13',\n",
       " 'doc_14',\n",
       " 'doc_15',\n",
       " 'doc_16',\n",
       " 'doc_17',\n",
       " 'doc_18',\n",
       " 'doc_19']"
      ]
     },
     "execution_count": 282,
     "metadata": {},
     "output_type": "execute_result"
    }
   ],
   "source": [
    "plot_y"
   ]
  },
  {
   "cell_type": "code",
   "execution_count": 283,
   "metadata": {},
   "outputs": [],
   "source": [
    "plot_z = X_counts[0:20, 0:100].toarray()"
   ]
  },
  {
   "cell_type": "code",
   "execution_count": 284,
   "metadata": {},
   "outputs": [
    {
     "data": {
      "image/png": "[encoded data removed]",
      "text/plain": [
       "<Figure size 1440x504 with 2 Axes>"
      ]
     },
     "metadata": {
      "needs_background": "light"
     },
     "output_type": "display_data"
    }
   ],
   "source": [
    "df_todraw = pd.DataFrame(plot_z, columns = plot_x, index = plot_y)\n",
    "plt.subplots(figsize=(20, 7))\n",
    "ax = sns.heatmap(df_todraw,\n",
    "                 cmap=\"PuRd\",\n",
    "                 vmin=0, vmax=1, annot=True)"
   ]
  },
  {
   "cell_type": "markdown",
   "metadata": {},
   "source": [
    "### dimensionality reduction"
   ]
  },
  {
   "cell_type": "code",
   "execution_count": 285,
   "metadata": {},
   "outputs": [],
   "source": [
    "from sklearn.decomposition import PCA\n",
    "from mpl_toolkits.mplot3d import Axes3D"
   ]
  },
  {
   "cell_type": "code",
   "execution_count": 286,
   "metadata": {},
   "outputs": [],
   "source": [
    "X_reduced = PCA(n_components = 3).fit_transform(X_counts.toarray())"
   ]
  },
  {
   "cell_type": "code",
   "execution_count": 287,
   "metadata": {},
   "outputs": [
    {
     "data": {
      "text/plain": [
       "(2983, 3)"
      ]
     },
     "execution_count": 287,
     "metadata": {},
     "output_type": "execute_result"
    }
   ],
   "source": [
    "X_reduced.shape"
   ]
  },
  {
   "cell_type": "code",
   "execution_count": 288,
   "metadata": {},
   "outputs": [
    {
     "data": {
      "text/plain": [
       "<function matplotlib.pyplot.show(*args, **kw)>"
      ]
     },
     "execution_count": 288,
     "metadata": {},
     "output_type": "execute_result"
    },
    {
     "data": {
      "image/png": "[encoded data removed]",
      "text/plain": [
       "<Figure size 1800x720 with 3 Axes>"
      ]
     },
     "metadata": {
      "needs_background": "light"
     },
     "output_type": "display_data"
    }
   ],
   "source": [
    "col = ['coral', 'blue']\n",
    "categories = [0,1]\n",
    "\n",
    "fig = plt.figure(figsize=(25,10))\n",
    "\n",
    "# plot\n",
    "for i in range(3):\n",
    "    ax = fig.add_subplot(1, 3, i+1, projection='3d')\n",
    "    for c, category in zip(col, categories):\n",
    "        xs = X_reduced[X['Score'] == category].T[0]\n",
    "        ys = X_reduced[X['Score'] == category].T[1]\n",
    "        zs = X_reduced[X['Score'] == category].T[2]\n",
    "        ax.scatter(xs, ys, zs, c=c, marker='o')\n",
    "        \n",
    "    ax.view_init(elev=10., azim=75*(i+1))   \n",
    "    ax.grid(color='gray', linestyle=':', linewidth=2, alpha=0.2)\n",
    "    ax.set_xlabel('\\nX Label')\n",
    "    ax.set_ylabel('\\nY Label')\n",
    "    ax.set_zlabel('\\nZ Label')\n",
    "    \n",
    "    \n",
    "plt.show"
   ]
  },
  {
   "cell_type": "markdown",
   "metadata": {},
   "source": [
    "### atrribute transformation / aggregation"
   ]
  },
  {
   "cell_type": "code",
   "execution_count": 289,
   "metadata": {},
   "outputs": [],
   "source": [
    "term_frequencies = []\n",
    "term_frequencies = X_counts.toarray().sum(axis=0)"
   ]
  },
  {
   "cell_type": "code",
   "execution_count": 290,
   "metadata": {},
   "outputs": [
    {
     "data": {
      "text/plain": [
       "(2983, 5155)"
      ]
     },
     "execution_count": 290,
     "metadata": {},
     "output_type": "execute_result"
    }
   ],
   "source": [
    "X_counts.shape"
   ]
  },
  {
   "cell_type": "code",
   "execution_count": 291,
   "metadata": {},
   "outputs": [
    {
     "data": {
      "text/plain": [
       "(5155,)"
      ]
     },
     "execution_count": 291,
     "metadata": {},
     "output_type": "execute_result"
    }
   ],
   "source": [
    "term_frequencies.shape"
   ]
  },
  {
   "cell_type": "code",
   "execution_count": 292,
   "metadata": {},
   "outputs": [
    {
     "data": {
      "application/vnd.plotly.v1+json": {
       "config": {
        "plotlyServerURL": "https://plot.ly"
       },
       "data": [
        {
         "marker": {
          "color": "rgb(17,157,255)",
          "line": {
           "color": "rgb(17,157,255)",
           "width": 2
          }
         },
         "opacity": 0.6,
         "type": "bar",
         "x": [
          "term_00",
          "term_10",
          "term_100",
          "term_11",
          "term_12",
          "term_13",
          "term_15",
          "term_15g",
          "term_15pm",
          "term_17",
          "term_18",
          "term_18th",
          "term_1928",
          "term_1947",
          "term_1948",
          "term_1949",
          "term_1971",
          "term_1973",
          "term_1979",
          "term_1980",
          "term_1986",
          "term_1995",
          "term_1998",
          "term_20",
          "term_2000",
          "term_2005",
          "term_2006",
          "term_2007",
          "term_20th",
          "term_2160",
          "term_23",
          "term_24",
          "term_25",
          "term_2mp",
          "term_30",
          "term_30s",
          "term_325",
          "term_35",
          "term_350",
          "term_375",
          "term_3o",
          "term_40",
          "term_40min",
          "term_42",
          "term_44",
          "term_45",
          "term_4s",
          "term_4ths",
          "term_50",
          "term_5020",
          "term_510",
          "term_5320",
          "term_54",
          "term_5lb",
          "term_680",
          "term_70",
          "term_70000",
          "term_700w",
          "term_70s",
          "term_80",
          "term_80s",
          "term_8125",
          "term_85",
          "term_8525",
          "term_8530",
          "term_8pm",
          "term_90",
          "term_95",
          "term_99",
          "term_aailiyah",
          "term_abandoned",
          "term_abhor",
          "term_ability",
          "term_able",
          "term_abound",
          "term_about",
          "term_above",
          "term_abroad",
          "term_absolute",
          "term_absolutel",
          "term_absolutely",
          "term_absolutley",
          "term_abstruse",
          "term_abysmal",
          "term_ac",
          "term_academy",
          "term_accents",
          "term_accept",
          "term_acceptable",
          "term_access",
          "term_accessable",
          "term_accessible",
          "term_accessing",
          "term_accessory",
          "term_accessoryone",
          "term_accident",
          "term_accidentally",
          "term_acclaimed",
          "term_accolades",
          "term_accommodations",
          "term_accomodate",
          "term_accompanied",
          "term_according",
          "term_accordingly",
          "term_accountant",
          "term_accurate",
          "term_accurately",
          "term_accused",
          "term_ache",
          "term_achievement",
          "term_achille",
          "term_ackerman",
          "term_acknowledged",
          "term_across",
          "term_act",
          "term_acted",
          "term_acting",
          "term_action",
          "term_actions",
          "term_activate",
          "term_activated",
          "term_activesync",
          "term_actor",
          "term_actors",
          "term_actress",
          "term_actresses",
          "term_actual",
          "term_actually",
          "term_ad",
          "term_adams",
          "term_adaptation",
          "term_adapter",
          "term_adapters",
          "term_add",
          "term_added",
          "term_addition",
          "term_additional",
          "term_address",
          "term_adhesive",
          "term_admins",
          "term_admiration",
          "term_admitted",
          "term_adorable",
          "term_adrift",
          "term_adventure",
          "term_advertised",
          "term_advise",
          "term_aerial",
          "term_aesthetically",
          "term_affected",
          "term_affleck",
          "term_affordable",
          "term_afraid",
          "term_africa",
          "term_after",
          "term_afternoon",
          "term_again",
          "term_against",
          "term_age",
          "term_aged",
          "term_ages",
          "term_aggravating",
          "term_ago",
          "term_agree",
          "term_agreed",
          "term_ahead",
          "term_aimless",
          "term_air",
          "term_aired",
          "term_airline",
          "term_airport",
          "term_akasha",
          "term_akin",
          "term_ala",
          "term_alarm",
          "term_albondigas",
          "term_alert",
          "term_alexander",
          "term_alike",
          "term_all",
          "term_allergy",
          "term_allison",
          "term_allot",
          "term_allow",
          "term_allowing",
          "term_allows",
          "term_almonds",
          "term_almost",
          "term_alone",
          "term_along",
          "term_alongside",
          "term_alot",
          "term_already",
          "term_also",
          "term_although",
          "term_aluminum",
          "term_always",
          "term_am",
          "term_amateurish",
          "term_amaze",
          "term_amazed",
          "term_amazing",
          "term_amazingly",
          "term_amazon",
          "term_ambiance",
          "term_ambience",
          "term_america",
          "term_american",
          "term_americans",
          "term_among",
          "term_amount",
          "term_amp",
          "term_ample",
          "term_amusing",
          "term_an",
          "term_anatomist",
          "term_and",
          "term_andddd",
          "term_angel",
          "term_angela",
          "term_angeles",
          "term_angelina",
          "term_angle",
          "term_angles",
          "term_angry",
          "term_anguish",
          "term_angus",
          "term_animals",
          "term_animated",
          "term_animation",
          "term_anita",
          "term_ann",
          "term_anne",
          "term_anniversary",
          "term_annoying",
          "term_another",
          "term_answer",
          "term_ant",
          "term_antena",
          "term_anthony",
          "term_anti",
          "term_anticipated",
          "term_antithesis",
          "term_any",
          "term_anymore",
          "term_anyone",
          "term_anything",
          "term_anytime",
          "term_anyway",
          "term_anyways",
          "term_anywhere",
          "term_apart",
          "term_apartment",
          "term_apologize",
          "term_apology",
          "term_app",
          "term_appalling",
          "term_apparently",
          "term_appealing",
          "term_appearance",
          "term_appears",
          "term_appetite",
          "term_appetizer",
          "term_appetizers",
          "term_applauded",
          "term_applause",
          "term_apple",
          "term_applifies",
          "term_appointments",
          "term_appreciate",
          "term_appropriate",
          "term_approval",
          "term_apt",
          "term_are",
          "term_area",
          "term_aren",
          "term_arepas",
          "term_argued",
          "term_arguing",
          "term_aria",
          "term_armageddon",
          "term_armand",
          "term_armband",
          "term_around",
          "term_array",
          "term_arrival",
          "term_arrived",
          "term_arrives",
          "term_arriving",
          "term_art",
          "term_article",
          "term_articulated",
          "term_artiness",
          "term_artist",
          "term_artistic",
          "term_artless",
          "term_arts",
          "term_as",
          "term_asia",
          "term_aside"
         ],
         "y": [
          1,
          36,
          3,
          2,
          4,
          3,
          3,
          1,
          1,
          2,
          1,
          1,
          1,
          1,
          1,
          1,
          1,
          1,
          1,
          1,
          1,
          1,
          1,
          9,
          1,
          2,
          1,
          1,
          2,
          1,
          1,
          1,
          2,
          1,
          7,
          1,
          1,
          3,
          1,
          1,
          1,
          5,
          1,
          1,
          1,
          2,
          1,
          1,
          4,
          1,
          3,
          1,
          1,
          1,
          1,
          2,
          1,
          1,
          1,
          2,
          1,
          1,
          1,
          1,
          1,
          1,
          7,
          1,
          1,
          1,
          1,
          1,
          5,
          4,
          1,
          85,
          7,
          1,
          1,
          1,
          21,
          1,
          1,
          2,
          1,
          1,
          1,
          2,
          1,
          2,
          1,
          1,
          1,
          1,
          1,
          1,
          2,
          1,
          1,
          1,
          1,
          1,
          1,
          1,
          1,
          1,
          1,
          2,
          1,
          2,
          1,
          1,
          2,
          1,
          2,
          3,
          43,
          7,
          1,
          1,
          1,
          1,
          10,
          19,
          3,
          3,
          1,
          16,
          1,
          1,
          2,
          1,
          1,
          2,
          3,
          4,
          2,
          1,
          1,
          1,
          1,
          1,
          6,
          1,
          1,
          2,
          4,
          3,
          1,
          1,
          1,
          1,
          2,
          2,
          52,
          2,
          49,
          2,
          4,
          1,
          1,
          1,
          9,
          1,
          1,
          1,
          1,
          2,
          1,
          1,
          1,
          1,
          1,
          1,
          1,
          1,
          1,
          2,
          1,
          149,
          1,
          1,
          1,
          2,
          2,
          2,
          1,
          14,
          3,
          5,
          1,
          1,
          4,
          74,
          8,
          1,
          24,
          35,
          1,
          1,
          3,
          34,
          1,
          9,
          7,
          3,
          2,
          2,
          2,
          2,
          8,
          1,
          2,
          1,
          106,
          1,
          1138,
          1,
          3,
          1,
          3,
          1,
          2,
          2,
          2,
          1,
          1,
          1,
          1,
          3,
          1,
          1,
          3,
          1,
          7,
          22,
          2,
          1,
          1,
          1,
          1,
          1,
          1,
          53,
          1,
          23,
          15,
          5,
          4,
          1,
          1,
          3,
          1,
          1,
          1,
          1,
          3,
          2,
          4,
          4,
          3,
          1,
          1,
          2,
          1,
          1,
          1,
          1,
          1,
          4,
          1,
          1,
          1,
          180,
          10,
          5,
          1,
          1,
          1,
          1,
          1,
          1,
          1,
          21,
          2,
          1,
          8,
          1,
          1,
          13,
          1,
          1,
          1,
          2,
          1,
          1,
          1,
          175,
          1,
          2
         ]
        }
       ],
       "layout": {
        "template": {
         "data": {
          "bar": [
           {
            "error_x": {
             "color": "#2a3f5f"
            },
            "error_y": {
             "color": "#2a3f5f"
            },
            "marker": {
             "line": {
              "color": "#E5ECF6",
              "width": 0.5
             }
            },
            "type": "bar"
           }
          ],
          "barpolar": [
           {
            "marker": {
             "line": {
              "color": "#E5ECF6",
              "width": 0.5
             }
            },
            "type": "barpolar"
           }
          ],
          "carpet": [
           {
            "aaxis": {
             "endlinecolor": "#2a3f5f",
             "gridcolor": "white",
             "linecolor": "white",
             "minorgridcolor": "white",
             "startlinecolor": "#2a3f5f"
            },
            "baxis": {
             "endlinecolor": "#2a3f5f",
             "gridcolor": "white",
             "linecolor": "white",
             "minorgridcolor": "white",
             "startlinecolor": "#2a3f5f"
            },
            "type": "carpet"
           }
          ],
          "choropleth": [
           {
            "colorbar": {
             "outlinewidth": 0,
             "ticks": ""
            },
            "type": "choropleth"
           }
          ],
          "contour": [
           {
            "colorbar": {
             "outlinewidth": 0,
             "ticks": ""
            },
            "colorscale": [
             [
              0,
              "#0d0887"
             ],
             [
              0.1111111111111111,
              "#46039f"
             ],
             [
              0.2222222222222222,
              "#7201a8"
             ],
             [
              0.3333333333333333,
              "#9c179e"
             ],
             [
              0.4444444444444444,
              "#bd3786"
             ],
             [
              0.5555555555555556,
              "#d8576b"
             ],
             [
              0.6666666666666666,
              "#ed7953"
             ],
             [
              0.7777777777777778,
              "#fb9f3a"
             ],
             [
              0.8888888888888888,
              "#fdca26"
             ],
             [
              1,
              "#f0f921"
             ]
            ],
            "type": "contour"
           }
          ],
          "contourcarpet": [
           {
            "colorbar": {
             "outlinewidth": 0,
             "ticks": ""
            },
            "type": "contourcarpet"
           }
          ],
          "heatmap": [
           {
            "colorbar": {
             "outlinewidth": 0,
             "ticks": ""
            },
            "colorscale": [
             [
              0,
              "#0d0887"
             ],
             [
              0.1111111111111111,
              "#46039f"
             ],
             [
              0.2222222222222222,
              "#7201a8"
             ],
             [
              0.3333333333333333,
              "#9c179e"
             ],
             [
              0.4444444444444444,
              "#bd3786"
             ],
             [
              0.5555555555555556,
              "#d8576b"
             ],
             [
              0.6666666666666666,
              "#ed7953"
             ],
             [
              0.7777777777777778,
              "#fb9f3a"
             ],
             [
              0.8888888888888888,
              "#fdca26"
             ],
             [
              1,
              "#f0f921"
             ]
            ],
            "type": "heatmap"
           }
          ],
          "heatmapgl": [
           {
            "colorbar": {
             "outlinewidth": 0,
             "ticks": ""
            },
            "colorscale": [
             [
              0,
              "#0d0887"
             ],
             [
              0.1111111111111111,
              "#46039f"
             ],
             [
              0.2222222222222222,
              "#7201a8"
             ],
             [
              0.3333333333333333,
              "#9c179e"
             ],
             [
              0.4444444444444444,
              "#bd3786"
             ],
             [
              0.5555555555555556,
              "#d8576b"
             ],
             [
              0.6666666666666666,
              "#ed7953"
             ],
             [
              0.7777777777777778,
              "#fb9f3a"
             ],
             [
              0.8888888888888888,
              "#fdca26"
             ],
             [
              1,
              "#f0f921"
             ]
            ],
            "type": "heatmapgl"
           }
          ],
          "histogram": [
           {
            "marker": {
             "colorbar": {
              "outlinewidth": 0,
              "ticks": ""
             }
            },
            "type": "histogram"
           }
          ],
          "histogram2d": [
           {
            "colorbar": {
             "outlinewidth": 0,
             "ticks": ""
            },
            "colorscale": [
             [
              0,
              "#0d0887"
             ],
             [
              0.1111111111111111,
              "#46039f"
             ],
             [
              0.2222222222222222,
              "#7201a8"
             ],
             [
              0.3333333333333333,
              "#9c179e"
             ],
             [
              0.4444444444444444,
              "#bd3786"
             ],
             [
              0.5555555555555556,
              "#d8576b"
             ],
             [
              0.6666666666666666,
              "#ed7953"
             ],
             [
              0.7777777777777778,
              "#fb9f3a"
             ],
             [
              0.8888888888888888,
              "#fdca26"
             ],
             [
              1,
              "#f0f921"
             ]
            ],
            "type": "histogram2d"
           }
          ],
          "histogram2dcontour": [
           {
            "colorbar": {
             "outlinewidth": 0,
             "ticks": ""
            },
            "colorscale": [
             [
              0,
              "#0d0887"
             ],
             [
              0.1111111111111111,
              "#46039f"
             ],
             [
              0.2222222222222222,
              "#7201a8"
             ],
             [
              0.3333333333333333,
              "#9c179e"
             ],
             [
              0.4444444444444444,
              "#bd3786"
             ],
             [
              0.5555555555555556,
              "#d8576b"
             ],
             [
              0.6666666666666666,
              "#ed7953"
             ],
             [
              0.7777777777777778,
              "#fb9f3a"
             ],
             [
              0.8888888888888888,
              "#fdca26"
             ],
             [
              1,
              "#f0f921"
             ]
            ],
            "type": "histogram2dcontour"
           }
          ],
          "mesh3d": [
           {
            "colorbar": {
             "outlinewidth": 0,
             "ticks": ""
            },
            "type": "mesh3d"
           }
          ],
          "parcoords": [
           {
            "line": {
             "colorbar": {
              "outlinewidth": 0,
              "ticks": ""
             }
            },
            "type": "parcoords"
           }
          ],
          "scatter": [
           {
            "marker": {
             "colorbar": {
              "outlinewidth": 0,
              "ticks": ""
             }
            },
            "type": "scatter"
           }
          ],
          "scatter3d": [
           {
            "line": {
             "colorbar": {
              "outlinewidth": 0,
              "ticks": ""
             }
            },
            "marker": {
             "colorbar": {
              "outlinewidth": 0,
              "ticks": ""
             }
            },
            "type": "scatter3d"
           }
          ],
          "scattercarpet": [
           {
            "marker": {
             "colorbar": {
              "outlinewidth": 0,
              "ticks": ""
             }
            },
            "type": "scattercarpet"
           }
          ],
          "scattergeo": [
           {
            "marker": {
             "colorbar": {
              "outlinewidth": 0,
              "ticks": ""
             }
            },
            "type": "scattergeo"
           }
          ],
          "scattergl": [
           {
            "marker": {
             "colorbar": {
              "outlinewidth": 0,
              "ticks": ""
             }
            },
            "type": "scattergl"
           }
          ],
          "scattermapbox": [
           {
            "marker": {
             "colorbar": {
              "outlinewidth": 0,
              "ticks": ""
             }
            },
            "type": "scattermapbox"
           }
          ],
          "scatterpolar": [
           {
            "marker": {
             "colorbar": {
              "outlinewidth": 0,
              "ticks": ""
             }
            },
            "type": "scatterpolar"
           }
          ],
          "scatterpolargl": [
           {
            "marker": {
             "colorbar": {
              "outlinewidth": 0,
              "ticks": ""
             }
            },
            "type": "scatterpolargl"
           }
          ],
          "scatterternary": [
           {
            "marker": {
             "colorbar": {
              "outlinewidth": 0,
              "ticks": ""
             }
            },
            "type": "scatterternary"
           }
          ],
          "surface": [
           {
            "colorbar": {
             "outlinewidth": 0,
             "ticks": ""
            },
            "colorscale": [
             [
              0,
              "#0d0887"
             ],
             [
              0.1111111111111111,
              "#46039f"
             ],
             [
              0.2222222222222222,
              "#7201a8"
             ],
             [
              0.3333333333333333,
              "#9c179e"
             ],
             [
              0.4444444444444444,
              "#bd3786"
             ],
             [
              0.5555555555555556,
              "#d8576b"
             ],
             [
              0.6666666666666666,
              "#ed7953"
             ],
             [
              0.7777777777777778,
              "#fb9f3a"
             ],
             [
              0.8888888888888888,
              "#fdca26"
             ],
             [
              1,
              "#f0f921"
             ]
            ],
            "type": "surface"
           }
          ],
          "table": [
           {
            "cells": {
             "fill": {
              "color": "#EBF0F8"
             },
             "line": {
              "color": "white"
             }
            },
            "header": {
             "fill": {
              "color": "#C8D4E3"
             },
             "line": {
              "color": "white"
             }
            },
            "type": "table"
           }
          ]
         },
         "layout": {
          "annotationdefaults": {
           "arrowcolor": "#2a3f5f",
           "arrowhead": 0,
           "arrowwidth": 1
          },
          "colorscale": {
           "diverging": [
            [
             0,
             "#8e0152"
            ],
            [
             0.1,
             "#c51b7d"
            ],
            [
             0.2,
             "#de77ae"
            ],
            [
             0.3,
             "#f1b6da"
            ],
            [
             0.4,
             "#fde0ef"
            ],
            [
             0.5,
             "#f7f7f7"
            ],
            [
             0.6,
             "#e6f5d0"
            ],
            [
             0.7,
             "#b8e186"
            ],
            [
             0.8,
             "#7fbc41"
            ],
            [
             0.9,
             "#4d9221"
            ],
            [
             1,
             "#276419"
            ]
           ],
           "sequential": [
            [
             0,
             "#0d0887"
            ],
            [
             0.1111111111111111,
             "#46039f"
            ],
            [
             0.2222222222222222,
             "#7201a8"
            ],
            [
             0.3333333333333333,
             "#9c179e"
            ],
            [
             0.4444444444444444,
             "#bd3786"
            ],
            [
             0.5555555555555556,
             "#d8576b"
            ],
            [
             0.6666666666666666,
             "#ed7953"
            ],
            [
             0.7777777777777778,
             "#fb9f3a"
            ],
            [
             0.8888888888888888,
             "#fdca26"
            ],
            [
             1,
             "#f0f921"
            ]
           ],
           "sequentialminus": [
            [
             0,
             "#0d0887"
            ],
            [
             0.1111111111111111,
             "#46039f"
            ],
            [
             0.2222222222222222,
             "#7201a8"
            ],
            [
             0.3333333333333333,
             "#9c179e"
            ],
            [
             0.4444444444444444,
             "#bd3786"
            ],
            [
             0.5555555555555556,
             "#d8576b"
            ],
            [
             0.6666666666666666,
             "#ed7953"
            ],
            [
             0.7777777777777778,
             "#fb9f3a"
            ],
            [
             0.8888888888888888,
             "#fdca26"
            ],
            [
             1,
             "#f0f921"
            ]
           ]
          },
          "colorway": [
           "#636efa",
           "#EF553B",
           "#00cc96",
           "#ab63fa",
           "#FFA15A",
           "#19d3f3",
           "#FF6692",
           "#B6E880",
           "#FF97FF",
           "#FECB52"
          ],
          "font": {
           "color": "#2a3f5f"
          },
          "geo": {
           "bgcolor": "white",
           "lakecolor": "white",
           "landcolor": "#E5ECF6",
           "showlakes": true,
           "showland": true,
           "subunitcolor": "white"
          },
          "hoverlabel": {
           "align": "left"
          },
          "hovermode": "closest",
          "mapbox": {
           "style": "light"
          },
          "paper_bgcolor": "white",
          "plot_bgcolor": "#E5ECF6",
          "polar": {
           "angularaxis": {
            "gridcolor": "white",
            "linecolor": "white",
            "ticks": ""
           },
           "bgcolor": "#E5ECF6",
           "radialaxis": {
            "gridcolor": "white",
            "linecolor": "white",
            "ticks": ""
           }
          },
          "scene": {
           "xaxis": {
            "backgroundcolor": "#E5ECF6",
            "gridcolor": "white",
            "gridwidth": 2,
            "linecolor": "white",
            "showbackground": true,
            "ticks": "",
            "zerolinecolor": "white"
           },
           "yaxis": {
            "backgroundcolor": "#E5ECF6",
            "gridcolor": "white",
            "gridwidth": 2,
            "linecolor": "white",
            "showbackground": true,
            "ticks": "",
            "zerolinecolor": "white"
           },
           "zaxis": {
            "backgroundcolor": "#E5ECF6",
            "gridcolor": "white",
            "gridwidth": 2,
            "linecolor": "white",
            "showbackground": true,
            "ticks": "",
            "zerolinecolor": "white"
           }
          },
          "shapedefaults": {
           "line": {
            "color": "#2a3f5f"
           }
          },
          "ternary": {
           "aaxis": {
            "gridcolor": "white",
            "linecolor": "white",
            "ticks": ""
           },
           "baxis": {
            "gridcolor": "white",
            "linecolor": "white",
            "ticks": ""
           },
           "bgcolor": "#E5ECF6",
           "caxis": {
            "gridcolor": "white",
            "linecolor": "white",
            "ticks": ""
           }
          },
          "title": {
           "x": 0.05
          },
          "xaxis": {
           "automargin": true,
           "gridcolor": "white",
           "linecolor": "white",
           "ticks": "",
           "zerolinecolor": "white",
           "zerolinewidth": 2
          },
          "yaxis": {
           "automargin": true,
           "gridcolor": "white",
           "linecolor": "white",
           "ticks": "",
           "zerolinecolor": "white",
           "zerolinewidth": 2
          }
         }
        }
       }
      },
      "text/html": [
       "<div>\n",
       "        \n",
       "        \n",
       "            <div id=\"bd11c46b-df2d-4859-83ee-9efb2a8e561a\" class=\"plotly-graph-div\" style=\"height:525px; width:100%;\"></div>\n",
       "            <script type=\"text/javascript\">\n",
       "                require([\"plotly\"], function(Plotly) {\n",
       "                    window.PLOTLYENV=window.PLOTLYENV || {};\n",
       "                    \n",
       "                if (document.getElementById(\"bd11c46b-df2d-4859-83ee-9efb2a8e561a\")) {\n",
       "                    Plotly.newPlot(\n",
       "                        'bd11c46b-df2d-4859-83ee-9efb2a8e561a',\n",
       "                        [{\"marker\": {\"color\": \"rgb(17,157,255)\", \"line\": {\"color\": \"rgb(17,157,255)\", \"width\": 2}}, \"opacity\": 0.6, \"type\": \"bar\", \"x\": [\"term_00\", \"term_10\", \"term_100\", \"term_11\", \"term_12\", \"term_13\", \"term_15\", \"term_15g\", \"term_15pm\", \"term_17\", \"term_18\", \"term_18th\", \"term_1928\", \"term_1947\", \"term_1948\", \"term_1949\", \"term_1971\", \"term_1973\", \"term_1979\", \"term_1980\", \"term_1986\", \"term_1995\", \"term_1998\", \"term_20\", \"term_2000\", \"term_2005\", \"term_2006\", \"term_2007\", \"term_20th\", \"term_2160\", \"term_23\", \"term_24\", \"term_25\", \"term_2mp\", \"term_30\", \"term_30s\", \"term_325\", \"term_35\", \"term_350\", \"term_375\", \"term_3o\", \"term_40\", \"term_40min\", \"term_42\", \"term_44\", \"term_45\", \"term_4s\", \"term_4ths\", \"term_50\", \"term_5020\", \"term_510\", \"term_5320\", \"term_54\", \"term_5lb\", \"term_680\", \"term_70\", \"term_70000\", \"term_700w\", \"term_70s\", \"term_80\", \"term_80s\", \"term_8125\", \"term_85\", \"term_8525\", \"term_8530\", \"term_8pm\", \"term_90\", \"term_95\", \"term_99\", \"term_aailiyah\", \"term_abandoned\", \"term_abhor\", \"term_ability\", \"term_able\", \"term_abound\", \"term_about\", \"term_above\", \"term_abroad\", \"term_absolute\", \"term_absolutel\", \"term_absolutely\", \"term_absolutley\", \"term_abstruse\", \"term_abysmal\", \"term_ac\", \"term_academy\", \"term_accents\", \"term_accept\", \"term_acceptable\", \"term_access\", \"term_accessable\", \"term_accessible\", \"term_accessing\", \"term_accessory\", \"term_accessoryone\", \"term_accident\", \"term_accidentally\", \"term_acclaimed\", \"term_accolades\", \"term_accommodations\", \"term_accomodate\", \"term_accompanied\", \"term_according\", \"term_accordingly\", \"term_accountant\", \"term_accurate\", \"term_accurately\", \"term_accused\", \"term_ache\", \"term_achievement\", \"term_achille\", \"term_ackerman\", \"term_acknowledged\", \"term_across\", \"term_act\", \"term_acted\", \"term_acting\", \"term_action\", \"term_actions\", \"term_activate\", \"term_activated\", \"term_activesync\", \"term_actor\", \"term_actors\", \"term_actress\", \"term_actresses\", \"term_actual\", \"term_actually\", \"term_ad\", \"term_adams\", \"term_adaptation\", \"term_adapter\", \"term_adapters\", \"term_add\", \"term_added\", \"term_addition\", \"term_additional\", \"term_address\", \"term_adhesive\", \"term_admins\", \"term_admiration\", \"term_admitted\", \"term_adorable\", \"term_adrift\", \"term_adventure\", \"term_advertised\", \"term_advise\", \"term_aerial\", \"term_aesthetically\", \"term_affected\", \"term_affleck\", \"term_affordable\", \"term_afraid\", \"term_africa\", \"term_after\", \"term_afternoon\", \"term_again\", \"term_against\", \"term_age\", \"term_aged\", \"term_ages\", \"term_aggravating\", \"term_ago\", \"term_agree\", \"term_agreed\", \"term_ahead\", \"term_aimless\", \"term_air\", \"term_aired\", \"term_airline\", \"term_airport\", \"term_akasha\", \"term_akin\", \"term_ala\", \"term_alarm\", \"term_albondigas\", \"term_alert\", \"term_alexander\", \"term_alike\", \"term_all\", \"term_allergy\", \"term_allison\", \"term_allot\", \"term_allow\", \"term_allowing\", \"term_allows\", \"term_almonds\", \"term_almost\", \"term_alone\", \"term_along\", \"term_alongside\", \"term_alot\", \"term_already\", \"term_also\", \"term_although\", \"term_aluminum\", \"term_always\", \"term_am\", \"term_amateurish\", \"term_amaze\", \"term_amazed\", \"term_amazing\", \"term_amazingly\", \"term_amazon\", \"term_ambiance\", \"term_ambience\", \"term_america\", \"term_american\", \"term_americans\", \"term_among\", \"term_amount\", \"term_amp\", \"term_ample\", \"term_amusing\", \"term_an\", \"term_anatomist\", \"term_and\", \"term_andddd\", \"term_angel\", \"term_angela\", \"term_angeles\", \"term_angelina\", \"term_angle\", \"term_angles\", \"term_angry\", \"term_anguish\", \"term_angus\", \"term_animals\", \"term_animated\", \"term_animation\", \"term_anita\", \"term_ann\", \"term_anne\", \"term_anniversary\", \"term_annoying\", \"term_another\", \"term_answer\", \"term_ant\", \"term_antena\", \"term_anthony\", \"term_anti\", \"term_anticipated\", \"term_antithesis\", \"term_any\", \"term_anymore\", \"term_anyone\", \"term_anything\", \"term_anytime\", \"term_anyway\", \"term_anyways\", \"term_anywhere\", \"term_apart\", \"term_apartment\", \"term_apologize\", \"term_apology\", \"term_app\", \"term_appalling\", \"term_apparently\", \"term_appealing\", \"term_appearance\", \"term_appears\", \"term_appetite\", \"term_appetizer\", \"term_appetizers\", \"term_applauded\", \"term_applause\", \"term_apple\", \"term_applifies\", \"term_appointments\", \"term_appreciate\", \"term_appropriate\", \"term_approval\", \"term_apt\", \"term_are\", \"term_area\", \"term_aren\", \"term_arepas\", \"term_argued\", \"term_arguing\", \"term_aria\", \"term_armageddon\", \"term_armand\", \"term_armband\", \"term_around\", \"term_array\", \"term_arrival\", \"term_arrived\", \"term_arrives\", \"term_arriving\", \"term_art\", \"term_article\", \"term_articulated\", \"term_artiness\", \"term_artist\", \"term_artistic\", \"term_artless\", \"term_arts\", \"term_as\", \"term_asia\", \"term_aside\"], \"y\": [1, 36, 3, 2, 4, 3, 3, 1, 1, 2, 1, 1, 1, 1, 1, 1, 1, 1, 1, 1, 1, 1, 1, 9, 1, 2, 1, 1, 2, 1, 1, 1, 2, 1, 7, 1, 1, 3, 1, 1, 1, 5, 1, 1, 1, 2, 1, 1, 4, 1, 3, 1, 1, 1, 1, 2, 1, 1, 1, 2, 1, 1, 1, 1, 1, 1, 7, 1, 1, 1, 1, 1, 5, 4, 1, 85, 7, 1, 1, 1, 21, 1, 1, 2, 1, 1, 1, 2, 1, 2, 1, 1, 1, 1, 1, 1, 2, 1, 1, 1, 1, 1, 1, 1, 1, 1, 1, 2, 1, 2, 1, 1, 2, 1, 2, 3, 43, 7, 1, 1, 1, 1, 10, 19, 3, 3, 1, 16, 1, 1, 2, 1, 1, 2, 3, 4, 2, 1, 1, 1, 1, 1, 6, 1, 1, 2, 4, 3, 1, 1, 1, 1, 2, 2, 52, 2, 49, 2, 4, 1, 1, 1, 9, 1, 1, 1, 1, 2, 1, 1, 1, 1, 1, 1, 1, 1, 1, 2, 1, 149, 1, 1, 1, 2, 2, 2, 1, 14, 3, 5, 1, 1, 4, 74, 8, 1, 24, 35, 1, 1, 3, 34, 1, 9, 7, 3, 2, 2, 2, 2, 8, 1, 2, 1, 106, 1, 1138, 1, 3, 1, 3, 1, 2, 2, 2, 1, 1, 1, 1, 3, 1, 1, 3, 1, 7, 22, 2, 1, 1, 1, 1, 1, 1, 53, 1, 23, 15, 5, 4, 1, 1, 3, 1, 1, 1, 1, 3, 2, 4, 4, 3, 1, 1, 2, 1, 1, 1, 1, 1, 4, 1, 1, 1, 180, 10, 5, 1, 1, 1, 1, 1, 1, 1, 21, 2, 1, 8, 1, 1, 13, 1, 1, 1, 2, 1, 1, 1, 175, 1, 2]}],\n",
       "                        {\"template\": {\"data\": {\"bar\": [{\"error_x\": {\"color\": \"#2a3f5f\"}, \"error_y\": {\"color\": \"#2a3f5f\"}, \"marker\": {\"line\": {\"color\": \"#E5ECF6\", \"width\": 0.5}}, \"type\": \"bar\"}], \"barpolar\": [{\"marker\": {\"line\": {\"color\": \"#E5ECF6\", \"width\": 0.5}}, \"type\": \"barpolar\"}], \"carpet\": [{\"aaxis\": {\"endlinecolor\": \"#2a3f5f\", \"gridcolor\": \"white\", \"linecolor\": \"white\", \"minorgridcolor\": \"white\", \"startlinecolor\": \"#2a3f5f\"}, \"baxis\": {\"endlinecolor\": \"#2a3f5f\", \"gridcolor\": \"white\", \"linecolor\": \"white\", \"minorgridcolor\": \"white\", \"startlinecolor\": \"#2a3f5f\"}, \"type\": \"carpet\"}], \"choropleth\": [{\"colorbar\": {\"outlinewidth\": 0, \"ticks\": \"\"}, \"type\": \"choropleth\"}], \"contour\": [{\"colorbar\": {\"outlinewidth\": 0, \"ticks\": \"\"}, \"colorscale\": [[0.0, \"#0d0887\"], [0.1111111111111111, \"#46039f\"], [0.2222222222222222, \"#7201a8\"], [0.3333333333333333, \"#9c179e\"], [0.4444444444444444, \"#bd3786\"], [0.5555555555555556, \"#d8576b\"], [0.6666666666666666, \"#ed7953\"], [0.7777777777777778, \"#fb9f3a\"], [0.8888888888888888, \"#fdca26\"], [1.0, \"#f0f921\"]], \"type\": \"contour\"}], \"contourcarpet\": [{\"colorbar\": {\"outlinewidth\": 0, \"ticks\": \"\"}, \"type\": \"contourcarpet\"}], \"heatmap\": [{\"colorbar\": {\"outlinewidth\": 0, \"ticks\": \"\"}, \"colorscale\": [[0.0, \"#0d0887\"], [0.1111111111111111, \"#46039f\"], [0.2222222222222222, \"#7201a8\"], [0.3333333333333333, \"#9c179e\"], [0.4444444444444444, \"#bd3786\"], [0.5555555555555556, \"#d8576b\"], [0.6666666666666666, \"#ed7953\"], [0.7777777777777778, \"#fb9f3a\"], [0.8888888888888888, \"#fdca26\"], [1.0, \"#f0f921\"]], \"type\": \"heatmap\"}], \"heatmapgl\": [{\"colorbar\": {\"outlinewidth\": 0, \"ticks\": \"\"}, \"colorscale\": [[0.0, \"#0d0887\"], [0.1111111111111111, \"#46039f\"], [0.2222222222222222, \"#7201a8\"], [0.3333333333333333, \"#9c179e\"], [0.4444444444444444, \"#bd3786\"], [0.5555555555555556, \"#d8576b\"], [0.6666666666666666, \"#ed7953\"], [0.7777777777777778, \"#fb9f3a\"], [0.8888888888888888, \"#fdca26\"], [1.0, \"#f0f921\"]], \"type\": \"heatmapgl\"}], \"histogram\": [{\"marker\": {\"colorbar\": {\"outlinewidth\": 0, \"ticks\": \"\"}}, \"type\": \"histogram\"}], \"histogram2d\": [{\"colorbar\": {\"outlinewidth\": 0, \"ticks\": \"\"}, \"colorscale\": [[0.0, \"#0d0887\"], [0.1111111111111111, \"#46039f\"], [0.2222222222222222, \"#7201a8\"], [0.3333333333333333, \"#9c179e\"], [0.4444444444444444, \"#bd3786\"], [0.5555555555555556, \"#d8576b\"], [0.6666666666666666, \"#ed7953\"], [0.7777777777777778, \"#fb9f3a\"], [0.8888888888888888, \"#fdca26\"], [1.0, \"#f0f921\"]], \"type\": \"histogram2d\"}], \"histogram2dcontour\": [{\"colorbar\": {\"outlinewidth\": 0, \"ticks\": \"\"}, \"colorscale\": [[0.0, \"#0d0887\"], [0.1111111111111111, \"#46039f\"], [0.2222222222222222, \"#7201a8\"], [0.3333333333333333, \"#9c179e\"], [0.4444444444444444, \"#bd3786\"], [0.5555555555555556, \"#d8576b\"], [0.6666666666666666, \"#ed7953\"], [0.7777777777777778, \"#fb9f3a\"], [0.8888888888888888, \"#fdca26\"], [1.0, \"#f0f921\"]], \"type\": \"histogram2dcontour\"}], \"mesh3d\": [{\"colorbar\": {\"outlinewidth\": 0, \"ticks\": \"\"}, \"type\": \"mesh3d\"}], \"parcoords\": [{\"line\": {\"colorbar\": {\"outlinewidth\": 0, \"ticks\": \"\"}}, \"type\": \"parcoords\"}], \"scatter\": [{\"marker\": {\"colorbar\": {\"outlinewidth\": 0, \"ticks\": \"\"}}, \"type\": \"scatter\"}], \"scatter3d\": [{\"line\": {\"colorbar\": {\"outlinewidth\": 0, \"ticks\": \"\"}}, \"marker\": {\"colorbar\": {\"outlinewidth\": 0, \"ticks\": \"\"}}, \"type\": \"scatter3d\"}], \"scattercarpet\": [{\"marker\": {\"colorbar\": {\"outlinewidth\": 0, \"ticks\": \"\"}}, \"type\": \"scattercarpet\"}], \"scattergeo\": [{\"marker\": {\"colorbar\": {\"outlinewidth\": 0, \"ticks\": \"\"}}, \"type\": \"scattergeo\"}], \"scattergl\": [{\"marker\": {\"colorbar\": {\"outlinewidth\": 0, \"ticks\": \"\"}}, \"type\": \"scattergl\"}], \"scattermapbox\": [{\"marker\": {\"colorbar\": {\"outlinewidth\": 0, \"ticks\": \"\"}}, \"type\": \"scattermapbox\"}], \"scatterpolar\": [{\"marker\": {\"colorbar\": {\"outlinewidth\": 0, \"ticks\": \"\"}}, \"type\": \"scatterpolar\"}], \"scatterpolargl\": [{\"marker\": {\"colorbar\": {\"outlinewidth\": 0, \"ticks\": \"\"}}, \"type\": \"scatterpolargl\"}], \"scatterternary\": [{\"marker\": {\"colorbar\": {\"outlinewidth\": 0, \"ticks\": \"\"}}, \"type\": \"scatterternary\"}], \"surface\": [{\"colorbar\": {\"outlinewidth\": 0, \"ticks\": \"\"}, \"colorscale\": [[0.0, \"#0d0887\"], [0.1111111111111111, \"#46039f\"], [0.2222222222222222, \"#7201a8\"], [0.3333333333333333, \"#9c179e\"], [0.4444444444444444, \"#bd3786\"], [0.5555555555555556, \"#d8576b\"], [0.6666666666666666, \"#ed7953\"], [0.7777777777777778, \"#fb9f3a\"], [0.8888888888888888, \"#fdca26\"], [1.0, \"#f0f921\"]], \"type\": \"surface\"}], \"table\": [{\"cells\": {\"fill\": {\"color\": \"#EBF0F8\"}, \"line\": {\"color\": \"white\"}}, \"header\": {\"fill\": {\"color\": \"#C8D4E3\"}, \"line\": {\"color\": \"white\"}}, \"type\": \"table\"}]}, \"layout\": {\"annotationdefaults\": {\"arrowcolor\": \"#2a3f5f\", \"arrowhead\": 0, \"arrowwidth\": 1}, \"colorscale\": {\"diverging\": [[0, \"#8e0152\"], [0.1, \"#c51b7d\"], [0.2, \"#de77ae\"], [0.3, \"#f1b6da\"], [0.4, \"#fde0ef\"], [0.5, \"#f7f7f7\"], [0.6, \"#e6f5d0\"], [0.7, \"#b8e186\"], [0.8, \"#7fbc41\"], [0.9, \"#4d9221\"], [1, \"#276419\"]], \"sequential\": [[0.0, \"#0d0887\"], [0.1111111111111111, \"#46039f\"], [0.2222222222222222, \"#7201a8\"], [0.3333333333333333, \"#9c179e\"], [0.4444444444444444, \"#bd3786\"], [0.5555555555555556, \"#d8576b\"], [0.6666666666666666, \"#ed7953\"], [0.7777777777777778, \"#fb9f3a\"], [0.8888888888888888, \"#fdca26\"], [1.0, \"#f0f921\"]], \"sequentialminus\": [[0.0, \"#0d0887\"], [0.1111111111111111, \"#46039f\"], [0.2222222222222222, \"#7201a8\"], [0.3333333333333333, \"#9c179e\"], [0.4444444444444444, \"#bd3786\"], [0.5555555555555556, \"#d8576b\"], [0.6666666666666666, \"#ed7953\"], [0.7777777777777778, \"#fb9f3a\"], [0.8888888888888888, \"#fdca26\"], [1.0, \"#f0f921\"]]}, \"colorway\": [\"#636efa\", \"#EF553B\", \"#00cc96\", \"#ab63fa\", \"#FFA15A\", \"#19d3f3\", \"#FF6692\", \"#B6E880\", \"#FF97FF\", \"#FECB52\"], \"font\": {\"color\": \"#2a3f5f\"}, \"geo\": {\"bgcolor\": \"white\", \"lakecolor\": \"white\", \"landcolor\": \"#E5ECF6\", \"showlakes\": true, \"showland\": true, \"subunitcolor\": \"white\"}, \"hoverlabel\": {\"align\": \"left\"}, \"hovermode\": \"closest\", \"mapbox\": {\"style\": \"light\"}, \"paper_bgcolor\": \"white\", \"plot_bgcolor\": \"#E5ECF6\", \"polar\": {\"angularaxis\": {\"gridcolor\": \"white\", \"linecolor\": \"white\", \"ticks\": \"\"}, \"bgcolor\": \"#E5ECF6\", \"radialaxis\": {\"gridcolor\": \"white\", \"linecolor\": \"white\", \"ticks\": \"\"}}, \"scene\": {\"xaxis\": {\"backgroundcolor\": \"#E5ECF6\", \"gridcolor\": \"white\", \"gridwidth\": 2, \"linecolor\": \"white\", \"showbackground\": true, \"ticks\": \"\", \"zerolinecolor\": \"white\"}, \"yaxis\": {\"backgroundcolor\": \"#E5ECF6\", \"gridcolor\": \"white\", \"gridwidth\": 2, \"linecolor\": \"white\", \"showbackground\": true, \"ticks\": \"\", \"zerolinecolor\": \"white\"}, \"zaxis\": {\"backgroundcolor\": \"#E5ECF6\", \"gridcolor\": \"white\", \"gridwidth\": 2, \"linecolor\": \"white\", \"showbackground\": true, \"ticks\": \"\", \"zerolinecolor\": \"white\"}}, \"shapedefaults\": {\"line\": {\"color\": \"#2a3f5f\"}}, \"ternary\": {\"aaxis\": {\"gridcolor\": \"white\", \"linecolor\": \"white\", \"ticks\": \"\"}, \"baxis\": {\"gridcolor\": \"white\", \"linecolor\": \"white\", \"ticks\": \"\"}, \"bgcolor\": \"#E5ECF6\", \"caxis\": {\"gridcolor\": \"white\", \"linecolor\": \"white\", \"ticks\": \"\"}}, \"title\": {\"x\": 0.05}, \"xaxis\": {\"automargin\": true, \"gridcolor\": \"white\", \"linecolor\": \"white\", \"ticks\": \"\", \"zerolinecolor\": \"white\", \"zerolinewidth\": 2}, \"yaxis\": {\"automargin\": true, \"gridcolor\": \"white\", \"linecolor\": \"white\", \"ticks\": \"\", \"zerolinecolor\": \"white\", \"zerolinewidth\": 2}}}},\n",
       "                        {\"responsive\": true}\n",
       "                    ).then(function(){\n",
       "                            \n",
       "var gd = document.getElementById('bd11c46b-df2d-4859-83ee-9efb2a8e561a');\n",
       "var x = new MutationObserver(function (mutations, observer) {{\n",
       "        var display = window.getComputedStyle(gd).display;\n",
       "        if (!display || display === 'none') {{\n",
       "            console.log([gd, 'removed!']);\n",
       "            Plotly.purge(gd);\n",
       "            observer.disconnect();\n",
       "        }}\n",
       "}});\n",
       "\n",
       "// Listen for the removal of the full notebook cells\n",
       "var notebookContainer = gd.closest('#notebook-container');\n",
       "if (notebookContainer) {{\n",
       "    x.observe(notebookContainer, {childList: true});\n",
       "}}\n",
       "\n",
       "// Listen for the clearing of the current output cell\n",
       "var outputEl = gd.closest('.output');\n",
       "if (outputEl) {{\n",
       "    x.observe(outputEl, {childList: true});\n",
       "}}\n",
       "\n",
       "                        })\n",
       "                };\n",
       "                });\n",
       "            </script>\n",
       "        </div>"
      ]
     },
     "metadata": {},
     "output_type": "display_data"
    }
   ],
   "source": [
    "# use plotly to have a nicer interactive visualization\n",
    "import plotly.graph_objects as go\n",
    "\n",
    "plot_data = []\n",
    "\n",
    "for i in range(300):\n",
    "    plot_data.append(\"term_\" + str(count_vect.get_feature_names()[i]))\n",
    "\n",
    "fig = go.Figure([go.Bar(x=plot_data, y=term_frequencies[:300])])\n",
    "fig.update_traces(marker_color='rgb(17,157,255)', marker_line_color='rgb(17,157,255)',\n",
    "                  marker_line_width=2, opacity=0.6)\n",
    "\n",
    "fig.show()"
   ]
  },
  {
   "cell_type": "code",
   "execution_count": 293,
   "metadata": {},
   "outputs": [],
   "source": [
    "import math\n",
    "term_frequencies_log = [math.log(i) for i in term_frequencies]"
   ]
  },
  {
   "cell_type": "code",
   "execution_count": 294,
   "metadata": {},
   "outputs": [
    {
     "data": {
      "image/png": "[encoded data removed]",
      "text/plain": [
       "<Figure size 7200x720 with 1 Axes>"
      ]
     },
     "metadata": {
      "needs_background": "light"
     },
     "output_type": "display_data"
    }
   ],
   "source": [
    "# transform the values in that vector into the log distribution\n",
    "plt.subplots(figsize=(100, 10))\n",
    "g = sns.barplot(x=count_vect.get_feature_names()[:300],\n",
    "                y=term_frequencies_log[:300])\n",
    "g.set_xticklabels(count_vect.get_feature_names()[:300], rotation = 90);"
   ]
  },
  {
   "cell_type": "markdown",
   "metadata": {},
   "source": [
    "### discretization and binarization"
   ]
  },
  {
   "cell_type": "code",
   "execution_count": 295,
   "metadata": {},
   "outputs": [],
   "source": [
    "from sklearn import preprocessing, metrics, decomposition, pipeline, dummy"
   ]
  },
  {
   "cell_type": "code",
   "execution_count": 296,
   "metadata": {},
   "outputs": [],
   "source": [
    "mlb = preprocessing.LabelBinarizer()"
   ]
  },
  {
   "cell_type": "code",
   "execution_count": 297,
   "metadata": {},
   "outputs": [
    {
     "data": {
      "text/plain": [
       "LabelBinarizer(neg_label=0, pos_label=1, sparse_output=False)"
      ]
     },
     "execution_count": 297,
     "metadata": {},
     "output_type": "execute_result"
    }
   ],
   "source": [
    "mlb.fit(X.Score)"
   ]
  },
  {
   "cell_type": "code",
   "execution_count": 298,
   "metadata": {},
   "outputs": [],
   "source": [
    "X['bin_category'] = mlb.transform(X['Score']).tolist()"
   ]
  },
  {
   "cell_type": "code",
   "execution_count": 299,
   "metadata": {},
   "outputs": [
    {
     "data": {
      "text/html": [
       "<div>\n",
       "<style scoped>\n",
       "    .dataframe tbody tr th:only-of-type {\n",
       "        vertical-align: middle;\n",
       "    }\n",
       "\n",
       "    .dataframe tbody tr th {\n",
       "        vertical-align: top;\n",
       "    }\n",
       "\n",
       "    .dataframe thead th {\n",
       "        text-align: right;\n",
       "    }\n",
       "</style>\n",
       "<table border=\"1\" class=\"dataframe\">\n",
       "  <thead>\n",
       "    <tr style=\"text-align: right;\">\n",
       "      <th></th>\n",
       "      <th>Sentence</th>\n",
       "      <th>Score</th>\n",
       "      <th>unigrams</th>\n",
       "      <th>bin_category</th>\n",
       "    </tr>\n",
       "  </thead>\n",
       "  <tbody>\n",
       "    <tr>\n",
       "      <td>0</td>\n",
       "      <td>So there is no way for me to plug it in here i...</td>\n",
       "      <td>0</td>\n",
       "      <td>[So, there, is, no, way, for, me, to, plug, it...</td>\n",
       "      <td>[0]</td>\n",
       "    </tr>\n",
       "    <tr>\n",
       "      <td>1</td>\n",
       "      <td>Good case, Excellent value.</td>\n",
       "      <td>1</td>\n",
       "      <td>[Good, case, ,, Excellent, value, .]</td>\n",
       "      <td>[1]</td>\n",
       "    </tr>\n",
       "    <tr>\n",
       "      <td>2</td>\n",
       "      <td>Great for the jawbone.</td>\n",
       "      <td>1</td>\n",
       "      <td>[Great, for, the, jawbone, .]</td>\n",
       "      <td>[1]</td>\n",
       "    </tr>\n",
       "    <tr>\n",
       "      <td>3</td>\n",
       "      <td>Tied to charger for conversations lasting more...</td>\n",
       "      <td>0</td>\n",
       "      <td>[Tied, to, charger, for, conversations, lastin...</td>\n",
       "      <td>[0]</td>\n",
       "    </tr>\n",
       "    <tr>\n",
       "      <td>4</td>\n",
       "      <td>The mic is great.</td>\n",
       "      <td>1</td>\n",
       "      <td>[The, mic, is, great, .]</td>\n",
       "      <td>[1]</td>\n",
       "    </tr>\n",
       "    <tr>\n",
       "      <td>5</td>\n",
       "      <td>I have to jiggle the plug to get it to line up...</td>\n",
       "      <td>0</td>\n",
       "      <td>[I, have, to, jiggle, the, plug, to, get, it, ...</td>\n",
       "      <td>[0]</td>\n",
       "    </tr>\n",
       "    <tr>\n",
       "      <td>6</td>\n",
       "      <td>If you have several dozen or several hundred c...</td>\n",
       "      <td>0</td>\n",
       "      <td>[If, you, have, several, dozen, or, several, h...</td>\n",
       "      <td>[0]</td>\n",
       "    </tr>\n",
       "    <tr>\n",
       "      <td>7</td>\n",
       "      <td>If you are Razr owner...you must have this!</td>\n",
       "      <td>1</td>\n",
       "      <td>[If, you, are, Razr, owner, ..., you, must, ha...</td>\n",
       "      <td>[1]</td>\n",
       "    </tr>\n",
       "    <tr>\n",
       "      <td>8</td>\n",
       "      <td>Needless to say, I wasted my money.</td>\n",
       "      <td>0</td>\n",
       "      <td>[Needless, to, say, ,, I, wasted, my, money, .]</td>\n",
       "      <td>[0]</td>\n",
       "    </tr>\n",
       "    <tr>\n",
       "      <td>9</td>\n",
       "      <td>What a waste of money and time!.</td>\n",
       "      <td>0</td>\n",
       "      <td>[What, a, waste, of, money, and, time, !, .]</td>\n",
       "      <td>[0]</td>\n",
       "    </tr>\n",
       "  </tbody>\n",
       "</table>\n",
       "</div>"
      ],
      "text/plain": [
       "                                            Sentence  Score  \\\n",
       "0  So there is no way for me to plug it in here i...      0   \n",
       "1                        Good case, Excellent value.      1   \n",
       "2                             Great for the jawbone.      1   \n",
       "3  Tied to charger for conversations lasting more...      0   \n",
       "4                                  The mic is great.      1   \n",
       "5  I have to jiggle the plug to get it to line up...      0   \n",
       "6  If you have several dozen or several hundred c...      0   \n",
       "7        If you are Razr owner...you must have this!      1   \n",
       "8                Needless to say, I wasted my money.      0   \n",
       "9                   What a waste of money and time!.      0   \n",
       "\n",
       "                                            unigrams bin_category  \n",
       "0  [So, there, is, no, way, for, me, to, plug, it...          [0]  \n",
       "1               [Good, case, ,, Excellent, value, .]          [1]  \n",
       "2                      [Great, for, the, jawbone, .]          [1]  \n",
       "3  [Tied, to, charger, for, conversations, lastin...          [0]  \n",
       "4                           [The, mic, is, great, .]          [1]  \n",
       "5  [I, have, to, jiggle, the, plug, to, get, it, ...          [0]  \n",
       "6  [If, you, have, several, dozen, or, several, h...          [0]  \n",
       "7  [If, you, are, Razr, owner, ..., you, must, ha...          [1]  \n",
       "8    [Needless, to, say, ,, I, wasted, my, money, .]          [0]  \n",
       "9       [What, a, waste, of, money, and, time, !, .]          [0]  "
      ]
     },
     "execution_count": 299,
     "metadata": {},
     "output_type": "execute_result"
    }
   ],
   "source": [
    "X[0:10]"
   ]
  },
  {
   "cell_type": "markdown",
   "metadata": {},
   "source": [
    "## 6. Data Exploration"
   ]
  },
  {
   "cell_type": "code",
   "execution_count": 300,
   "metadata": {},
   "outputs": [],
   "source": [
    "# We retrieve 2 sentences for a random record, here, indexed at 50 and 100\n",
    "document_to_transform_1 = []\n",
    "random_record_1 = X.iloc[50]\n",
    "random_record_1 = random_record_1['Sentence']\n",
    "document_to_transform_1.append(random_record_1)\n",
    "\n",
    "document_to_transform_2 = []\n",
    "random_record_2 = X.iloc[100]\n",
    "random_record_2 = random_record_2['Sentence']\n",
    "document_to_transform_2.append(random_record_2)\n",
    "\n",
    "document_to_transform_3 = []\n",
    "random_record_3 = X.iloc[150]\n",
    "random_record_3 = random_record_3['Sentence']\n",
    "document_to_transform_3.append(random_record_3)"
   ]
  },
  {
   "cell_type": "code",
   "execution_count": 301,
   "metadata": {},
   "outputs": [
    {
     "name": "stdout",
     "output_type": "stream",
     "text": [
      "[\"Not loud enough and doesn't turn on like it should.\"]\n",
      "['Integrated seamlessly with the Motorola RAZR phone.']\n",
      "['I Was Hoping for More.']\n"
     ]
    }
   ],
   "source": [
    "print(document_to_transform_1)\n",
    "print(document_to_transform_2)\n",
    "print(document_to_transform_3)"
   ]
  },
  {
   "cell_type": "code",
   "execution_count": 302,
   "metadata": {},
   "outputs": [
    {
     "name": "stdout",
     "output_type": "stream",
     "text": [
      "Let's take a look at the count vectors:\n",
      "[[0 0 0 ... 0 0 0]]\n",
      "[[0 0 0 ... 0 0 0]]\n",
      "[[0 0 0 ... 0 0 0]]\n"
     ]
    }
   ],
   "source": [
    "from sklearn.preprocessing import binarize\n",
    "\n",
    "# Transform sentence with Vectorizers\n",
    "document_vector_count_1 = count_vect.transform(document_to_transform_1)\n",
    "document_vector_count_2 = count_vect.transform(document_to_transform_2)\n",
    "document_vector_count_3 = count_vect.transform(document_to_transform_3)\n",
    "\n",
    "# Binarize vecors to simplify: 0 for abscence, 1 for prescence\n",
    "document_vector_count_1_bin = binarize(document_vector_count_1)\n",
    "document_vector_count_2_bin = binarize(document_vector_count_2)\n",
    "document_vector_count_3_bin = binarize(document_vector_count_3)\n",
    "\n",
    "# print\n",
    "print(\"Let's take a look at the count vectors:\")\n",
    "print(document_vector_count_1.todense())\n",
    "print(document_vector_count_2.todense())\n",
    "print(document_vector_count_3.todense())"
   ]
  },
  {
   "cell_type": "code",
   "execution_count": 303,
   "metadata": {},
   "outputs": [
    {
     "name": "stdout",
     "output_type": "stream",
     "text": [
      "Cosine Similarity using count bw 1 and 2: 0.000000\n",
      "Cosine Similarity using count bw 1 and 3: 0.000000\n",
      "Cosine Similarity using count bw 1 and 1: 1.000000\n",
      "Cosine Similarity using count bw 2 and 2: 1.000000\n"
     ]
    }
   ],
   "source": [
    "from sklearn.metrics.pairwise import cosine_similarity\n",
    "\n",
    "# Calculate Cosine Similarity\n",
    "cos_sim_count_1_2 = cosine_similarity(document_vector_count_1, document_vector_count_2, dense_output=True)\n",
    "cos_sim_count_1_3 = cosine_similarity(document_vector_count_1, document_vector_count_3, dense_output=True)\n",
    "cos_sim_count_1_1 = cosine_similarity(document_vector_count_1, document_vector_count_1, dense_output=True)\n",
    "cos_sim_count_2_2 = cosine_similarity(document_vector_count_2, document_vector_count_2, dense_output=True)\n",
    "\n",
    "# Print \n",
    "print(\"Cosine Similarity using count bw 1 and 2: %(x)f\" %{\"x\":cos_sim_count_1_2})\n",
    "print(\"Cosine Similarity using count bw 1 and 3: %(x)f\" %{\"x\":cos_sim_count_1_3})\n",
    "print(\"Cosine Similarity using count bw 1 and 1: %(x)f\" %{\"x\":cos_sim_count_1_1})\n",
    "print(\"Cosine Similarity using count bw 2 and 2: %(x)f\" %{\"x\":cos_sim_count_2_2})"
   ]
  },
  {
   "cell_type": "markdown",
   "metadata": {},
   "source": [
    "# Third part"
   ]
  },
  {
   "cell_type": "markdown",
   "metadata": {},
   "source": [
    "## 1. New Data Visualizations"
   ]
  },
  {
   "cell_type": "code",
   "execution_count": 304,
   "metadata": {},
   "outputs": [
    {
     "data": {
      "text/html": [
       "<div>\n",
       "<style scoped>\n",
       "    .dataframe tbody tr th:only-of-type {\n",
       "        vertical-align: middle;\n",
       "    }\n",
       "\n",
       "    .dataframe tbody tr th {\n",
       "        vertical-align: top;\n",
       "    }\n",
       "\n",
       "    .dataframe thead th {\n",
       "        text-align: right;\n",
       "    }\n",
       "</style>\n",
       "<table border=\"1\" class=\"dataframe\">\n",
       "  <thead>\n",
       "    <tr style=\"text-align: right;\">\n",
       "      <th></th>\n",
       "      <th>Sentence</th>\n",
       "      <th>Score</th>\n",
       "      <th>unigrams</th>\n",
       "      <th>bin_category</th>\n",
       "    </tr>\n",
       "  </thead>\n",
       "  <tbody>\n",
       "    <tr>\n",
       "      <td>0</td>\n",
       "      <td>So there is no way for me to plug it in here i...</td>\n",
       "      <td>0</td>\n",
       "      <td>[So, there, is, no, way, for, me, to, plug, it...</td>\n",
       "      <td>[0]</td>\n",
       "    </tr>\n",
       "    <tr>\n",
       "      <td>1</td>\n",
       "      <td>Good case, Excellent value.</td>\n",
       "      <td>1</td>\n",
       "      <td>[Good, case, ,, Excellent, value, .]</td>\n",
       "      <td>[1]</td>\n",
       "    </tr>\n",
       "    <tr>\n",
       "      <td>2</td>\n",
       "      <td>Great for the jawbone.</td>\n",
       "      <td>1</td>\n",
       "      <td>[Great, for, the, jawbone, .]</td>\n",
       "      <td>[1]</td>\n",
       "    </tr>\n",
       "    <tr>\n",
       "      <td>3</td>\n",
       "      <td>Tied to charger for conversations lasting more...</td>\n",
       "      <td>0</td>\n",
       "      <td>[Tied, to, charger, for, conversations, lastin...</td>\n",
       "      <td>[0]</td>\n",
       "    </tr>\n",
       "    <tr>\n",
       "      <td>4</td>\n",
       "      <td>The mic is great.</td>\n",
       "      <td>1</td>\n",
       "      <td>[The, mic, is, great, .]</td>\n",
       "      <td>[1]</td>\n",
       "    </tr>\n",
       "    <tr>\n",
       "      <td>5</td>\n",
       "      <td>I have to jiggle the plug to get it to line up...</td>\n",
       "      <td>0</td>\n",
       "      <td>[I, have, to, jiggle, the, plug, to, get, it, ...</td>\n",
       "      <td>[0]</td>\n",
       "    </tr>\n",
       "    <tr>\n",
       "      <td>6</td>\n",
       "      <td>If you have several dozen or several hundred c...</td>\n",
       "      <td>0</td>\n",
       "      <td>[If, you, have, several, dozen, or, several, h...</td>\n",
       "      <td>[0]</td>\n",
       "    </tr>\n",
       "    <tr>\n",
       "      <td>7</td>\n",
       "      <td>If you are Razr owner...you must have this!</td>\n",
       "      <td>1</td>\n",
       "      <td>[If, you, are, Razr, owner, ..., you, must, ha...</td>\n",
       "      <td>[1]</td>\n",
       "    </tr>\n",
       "    <tr>\n",
       "      <td>8</td>\n",
       "      <td>Needless to say, I wasted my money.</td>\n",
       "      <td>0</td>\n",
       "      <td>[Needless, to, say, ,, I, wasted, my, money, .]</td>\n",
       "      <td>[0]</td>\n",
       "    </tr>\n",
       "    <tr>\n",
       "      <td>9</td>\n",
       "      <td>What a waste of money and time!.</td>\n",
       "      <td>0</td>\n",
       "      <td>[What, a, waste, of, money, and, time, !, .]</td>\n",
       "      <td>[0]</td>\n",
       "    </tr>\n",
       "  </tbody>\n",
       "</table>\n",
       "</div>"
      ],
      "text/plain": [
       "                                            Sentence  Score  \\\n",
       "0  So there is no way for me to plug it in here i...      0   \n",
       "1                        Good case, Excellent value.      1   \n",
       "2                             Great for the jawbone.      1   \n",
       "3  Tied to charger for conversations lasting more...      0   \n",
       "4                                  The mic is great.      1   \n",
       "5  I have to jiggle the plug to get it to line up...      0   \n",
       "6  If you have several dozen or several hundred c...      0   \n",
       "7        If you are Razr owner...you must have this!      1   \n",
       "8                Needless to say, I wasted my money.      0   \n",
       "9                   What a waste of money and time!.      0   \n",
       "\n",
       "                                            unigrams bin_category  \n",
       "0  [So, there, is, no, way, for, me, to, plug, it...          [0]  \n",
       "1               [Good, case, ,, Excellent, value, .]          [1]  \n",
       "2                      [Great, for, the, jawbone, .]          [1]  \n",
       "3  [Tied, to, charger, for, conversations, lastin...          [0]  \n",
       "4                           [The, mic, is, great, .]          [1]  \n",
       "5  [I, have, to, jiggle, the, plug, to, get, it, ...          [0]  \n",
       "6  [If, you, have, several, dozen, or, several, h...          [0]  \n",
       "7  [If, you, are, Razr, owner, ..., you, must, ha...          [1]  \n",
       "8    [Needless, to, say, ,, I, wasted, my, money, .]          [0]  \n",
       "9       [What, a, waste, of, money, and, time, !, .]          [0]  "
      ]
     },
     "execution_count": 304,
     "metadata": {},
     "output_type": "execute_result"
    }
   ],
   "source": [
    "X[0:10]"
   ]
  },
  {
   "cell_type": "code",
   "execution_count": 305,
   "metadata": {},
   "outputs": [
    {
     "data": {
      "text/plain": [
       "(2983, 5155)"
      ]
     },
     "execution_count": 305,
     "metadata": {},
     "output_type": "execute_result"
    }
   ],
   "source": [
    "X_counts.shape"
   ]
  },
  {
   "cell_type": "code",
   "execution_count": 341,
   "metadata": {},
   "outputs": [],
   "source": [
    "from textblob import TextBlob "
   ]
  },
  {
   "cell_type": "code",
   "execution_count": 360,
   "metadata": {},
   "outputs": [],
   "source": [
    "# using TextBlob to calculate polarity directly\n",
    "def sentiment(x):\n",
    "    sentiment = TextBlob(x)\n",
    "    return sentiment.sentiment.polarity\n"
   ]
  },
  {
   "cell_type": "code",
   "execution_count": 361,
   "metadata": {},
   "outputs": [
    {
     "data": {
      "text/html": [
       "<div>\n",
       "<style scoped>\n",
       "    .dataframe tbody tr th:only-of-type {\n",
       "        vertical-align: middle;\n",
       "    }\n",
       "\n",
       "    .dataframe tbody tr th {\n",
       "        vertical-align: top;\n",
       "    }\n",
       "\n",
       "    .dataframe thead th {\n",
       "        text-align: right;\n",
       "    }\n",
       "</style>\n",
       "<table border=\"1\" class=\"dataframe\">\n",
       "  <thead>\n",
       "    <tr style=\"text-align: right;\">\n",
       "      <th></th>\n",
       "      <th>Sentence</th>\n",
       "      <th>Score</th>\n",
       "      <th>unigrams</th>\n",
       "      <th>bin_category</th>\n",
       "      <th>polarity</th>\n",
       "    </tr>\n",
       "  </thead>\n",
       "  <tbody>\n",
       "    <tr>\n",
       "      <td>0</td>\n",
       "      <td>So there is no way for me to plug it in here i...</td>\n",
       "      <td>0</td>\n",
       "      <td>[So, there, is, no, way, for, me, to, plug, it...</td>\n",
       "      <td>[0]</td>\n",
       "      <td>0.000000</td>\n",
       "    </tr>\n",
       "    <tr>\n",
       "      <td>1</td>\n",
       "      <td>Good case, Excellent value.</td>\n",
       "      <td>1</td>\n",
       "      <td>[Good, case, ,, Excellent, value, .]</td>\n",
       "      <td>[1]</td>\n",
       "      <td>0.850000</td>\n",
       "    </tr>\n",
       "    <tr>\n",
       "      <td>2</td>\n",
       "      <td>Great for the jawbone.</td>\n",
       "      <td>1</td>\n",
       "      <td>[Great, for, the, jawbone, .]</td>\n",
       "      <td>[1]</td>\n",
       "      <td>0.800000</td>\n",
       "    </tr>\n",
       "    <tr>\n",
       "      <td>3</td>\n",
       "      <td>Tied to charger for conversations lasting more...</td>\n",
       "      <td>0</td>\n",
       "      <td>[Tied, to, charger, for, conversations, lastin...</td>\n",
       "      <td>[0]</td>\n",
       "      <td>0.390625</td>\n",
       "    </tr>\n",
       "    <tr>\n",
       "      <td>4</td>\n",
       "      <td>The mic is great.</td>\n",
       "      <td>1</td>\n",
       "      <td>[The, mic, is, great, .]</td>\n",
       "      <td>[1]</td>\n",
       "      <td>0.800000</td>\n",
       "    </tr>\n",
       "    <tr>\n",
       "      <td>5</td>\n",
       "      <td>I have to jiggle the plug to get it to line up...</td>\n",
       "      <td>0</td>\n",
       "      <td>[I, have, to, jiggle, the, plug, to, get, it, ...</td>\n",
       "      <td>[0]</td>\n",
       "      <td>0.226190</td>\n",
       "    </tr>\n",
       "    <tr>\n",
       "      <td>6</td>\n",
       "      <td>If you have several dozen or several hundred c...</td>\n",
       "      <td>0</td>\n",
       "      <td>[If, you, have, several, dozen, or, several, h...</td>\n",
       "      <td>[0]</td>\n",
       "      <td>0.100000</td>\n",
       "    </tr>\n",
       "    <tr>\n",
       "      <td>7</td>\n",
       "      <td>If you are Razr owner...you must have this!</td>\n",
       "      <td>1</td>\n",
       "      <td>[If, you, are, Razr, owner, ..., you, must, ha...</td>\n",
       "      <td>[1]</td>\n",
       "      <td>0.000000</td>\n",
       "    </tr>\n",
       "    <tr>\n",
       "      <td>8</td>\n",
       "      <td>Needless to say, I wasted my money.</td>\n",
       "      <td>0</td>\n",
       "      <td>[Needless, to, say, ,, I, wasted, my, money, .]</td>\n",
       "      <td>[0]</td>\n",
       "      <td>-0.350000</td>\n",
       "    </tr>\n",
       "    <tr>\n",
       "      <td>9</td>\n",
       "      <td>What a waste of money and time!.</td>\n",
       "      <td>0</td>\n",
       "      <td>[What, a, waste, of, money, and, time, !, .]</td>\n",
       "      <td>[0]</td>\n",
       "      <td>-0.250000</td>\n",
       "    </tr>\n",
       "  </tbody>\n",
       "</table>\n",
       "</div>"
      ],
      "text/plain": [
       "                                            Sentence  Score  \\\n",
       "0  So there is no way for me to plug it in here i...      0   \n",
       "1                        Good case, Excellent value.      1   \n",
       "2                             Great for the jawbone.      1   \n",
       "3  Tied to charger for conversations lasting more...      0   \n",
       "4                                  The mic is great.      1   \n",
       "5  I have to jiggle the plug to get it to line up...      0   \n",
       "6  If you have several dozen or several hundred c...      0   \n",
       "7        If you are Razr owner...you must have this!      1   \n",
       "8                Needless to say, I wasted my money.      0   \n",
       "9                   What a waste of money and time!.      0   \n",
       "\n",
       "                                            unigrams bin_category  polarity  \n",
       "0  [So, there, is, no, way, for, me, to, plug, it...          [0]  0.000000  \n",
       "1               [Good, case, ,, Excellent, value, .]          [1]  0.850000  \n",
       "2                      [Great, for, the, jawbone, .]          [1]  0.800000  \n",
       "3  [Tied, to, charger, for, conversations, lastin...          [0]  0.390625  \n",
       "4                           [The, mic, is, great, .]          [1]  0.800000  \n",
       "5  [I, have, to, jiggle, the, plug, to, get, it, ...          [0]  0.226190  \n",
       "6  [If, you, have, several, dozen, or, several, h...          [0]  0.100000  \n",
       "7  [If, you, are, Razr, owner, ..., you, must, ha...          [1]  0.000000  \n",
       "8    [Needless, to, say, ,, I, wasted, my, money, .]          [0] -0.350000  \n",
       "9       [What, a, waste, of, money, and, time, !, .]          [0] -0.250000  "
      ]
     },
     "execution_count": 361,
     "metadata": {},
     "output_type": "execute_result"
    }
   ],
   "source": [
    "X['polarity'] = X['Sentence'].apply(sentiment)\n",
    "X[0:10]"
   ]
  },
  {
   "cell_type": "code",
   "execution_count": 355,
   "metadata": {},
   "outputs": [
    {
     "data": {
      "text/plain": [
       " 0.000000    644\n",
       " 1.000000    146\n",
       " 0.500000    133\n",
       "-1.000000     78\n",
       " 0.800000     73\n",
       "            ... \n",
       "-0.304762      1\n",
       "-0.252778      1\n",
       "-0.158333      1\n",
       " 0.012500      1\n",
       " 0.175000      1\n",
       "Name: polarity, Length: 666, dtype: int64"
      ]
     },
     "execution_count": 355,
     "metadata": {},
     "output_type": "execute_result"
    }
   ],
   "source": [
    "X.polarity.value_counts()"
   ]
  },
  {
   "cell_type": "code",
   "execution_count": 359,
   "metadata": {},
   "outputs": [
    {
     "data": {
      "text/plain": [
       "<matplotlib.axes._subplots.AxesSubplot at 0x18fa935d358>"
      ]
     },
     "execution_count": 359,
     "metadata": {},
     "output_type": "execute_result"
    },
    {
     "data": {
      "image/png": "[encoded data removed]",
      "text/plain": [
       "<Figure size 432x288 with 1 Axes>"
      ]
     },
     "metadata": {
      "needs_background": "light"
     },
     "output_type": "display_data"
    }
   ],
   "source": [
    "# plot chart for polarity\n",
    "X['polarity'].plot(kind = 'hist', title = 'Polarity distribution', bins = 80)"
   ]
  },
  {
   "cell_type": "code",
   "execution_count": 352,
   "metadata": {},
   "outputs": [
    {
     "data": {
      "text/plain": [
       "0       0.000000\n",
       "1       0.850000\n",
       "2       0.800000\n",
       "3       0.390625\n",
       "4       0.800000\n",
       "          ...   \n",
       "2995    0.000000\n",
       "2996    0.000000\n",
       "2997   -0.166667\n",
       "2998    0.100000\n",
       "2999   -0.100000\n",
       "Name: polarity, Length: 2983, dtype: float64"
      ]
     },
     "execution_count": 352,
     "metadata": {},
     "output_type": "execute_result"
    }
   ],
   "source": []
  },
  {
   "cell_type": "markdown",
   "metadata": {},
   "source": [
    "## 2. TF-IDF features"
   ]
  },
  {
   "cell_type": "code",
   "execution_count": 325,
   "metadata": {},
   "outputs": [],
   "source": [
    "from sklearn.feature_extraction.text import TfidfVectorizer\n",
    "from sklearn.feature_extraction.text import TfidfTransformer"
   ]
  },
  {
   "cell_type": "code",
   "execution_count": 329,
   "metadata": {},
   "outputs": [
    {
     "data": {
      "text/plain": [
       "['00',\n",
       " '10',\n",
       " '100',\n",
       " '11',\n",
       " '12',\n",
       " '13',\n",
       " '15',\n",
       " '15g',\n",
       " '15pm',\n",
       " '17',\n",
       " '18',\n",
       " '18th',\n",
       " '1928',\n",
       " '1947',\n",
       " '1948',\n",
       " '1949',\n",
       " '1971',\n",
       " '1973',\n",
       " '1979',\n",
       " '1980',\n",
       " '1986',\n",
       " '1995',\n",
       " '1998',\n",
       " '20',\n",
       " '2000',\n",
       " '2005',\n",
       " '2006',\n",
       " '2007',\n",
       " '20th',\n",
       " '2160',\n",
       " '23',\n",
       " '24',\n",
       " '25',\n",
       " '2mp',\n",
       " '30',\n",
       " '30s',\n",
       " '325',\n",
       " '35',\n",
       " '350',\n",
       " '375',\n",
       " '3o',\n",
       " '40',\n",
       " '40min',\n",
       " '42',\n",
       " '44',\n",
       " '45',\n",
       " '4s',\n",
       " '4ths',\n",
       " '50',\n",
       " '5020',\n",
       " '510',\n",
       " '5320',\n",
       " '54',\n",
       " '5lb',\n",
       " '680',\n",
       " '70',\n",
       " '70000',\n",
       " '700w',\n",
       " '70s',\n",
       " '80',\n",
       " '80s',\n",
       " '8125',\n",
       " '85',\n",
       " '8525',\n",
       " '8530',\n",
       " '8pm',\n",
       " '90',\n",
       " '95',\n",
       " '99',\n",
       " 'aailiyah',\n",
       " 'abandoned',\n",
       " 'abhor',\n",
       " 'ability',\n",
       " 'able',\n",
       " 'abound',\n",
       " 'about',\n",
       " 'above',\n",
       " 'abroad',\n",
       " 'absolute',\n",
       " 'absolutel',\n",
       " 'absolutely',\n",
       " 'absolutley',\n",
       " 'abstruse',\n",
       " 'abysmal',\n",
       " 'ac',\n",
       " 'academy',\n",
       " 'accents',\n",
       " 'accept',\n",
       " 'acceptable',\n",
       " 'access',\n",
       " 'accessable',\n",
       " 'accessible',\n",
       " 'accessing',\n",
       " 'accessory',\n",
       " 'accessoryone',\n",
       " 'accident',\n",
       " 'accidentally',\n",
       " 'acclaimed',\n",
       " 'accolades',\n",
       " 'accommodations',\n",
       " 'accomodate',\n",
       " 'accompanied',\n",
       " 'according',\n",
       " 'accordingly',\n",
       " 'accountant',\n",
       " 'accurate',\n",
       " 'accurately',\n",
       " 'accused',\n",
       " 'ache',\n",
       " 'achievement',\n",
       " 'achille',\n",
       " 'ackerman',\n",
       " 'acknowledged',\n",
       " 'across',\n",
       " 'act',\n",
       " 'acted',\n",
       " 'acting',\n",
       " 'action',\n",
       " 'actions',\n",
       " 'activate',\n",
       " 'activated',\n",
       " 'activesync',\n",
       " 'actor',\n",
       " 'actors',\n",
       " 'actress',\n",
       " 'actresses',\n",
       " 'actual',\n",
       " 'actually',\n",
       " 'ad',\n",
       " 'adams',\n",
       " 'adaptation',\n",
       " 'adapter',\n",
       " 'adapters',\n",
       " 'add',\n",
       " 'added',\n",
       " 'addition',\n",
       " 'additional',\n",
       " 'address',\n",
       " 'adhesive',\n",
       " 'admins',\n",
       " 'admiration',\n",
       " 'admitted',\n",
       " 'adorable',\n",
       " 'adrift',\n",
       " 'adventure',\n",
       " 'advertised',\n",
       " 'advise',\n",
       " 'aerial',\n",
       " 'aesthetically',\n",
       " 'affected',\n",
       " 'affleck',\n",
       " 'affordable',\n",
       " 'afraid',\n",
       " 'africa',\n",
       " 'after',\n",
       " 'afternoon',\n",
       " 'again',\n",
       " 'against',\n",
       " 'age',\n",
       " 'aged',\n",
       " 'ages',\n",
       " 'aggravating',\n",
       " 'ago',\n",
       " 'agree',\n",
       " 'agreed',\n",
       " 'ahead',\n",
       " 'aimless',\n",
       " 'air',\n",
       " 'aired',\n",
       " 'airline',\n",
       " 'airport',\n",
       " 'akasha',\n",
       " 'akin',\n",
       " 'ala',\n",
       " 'alarm',\n",
       " 'albondigas',\n",
       " 'alert',\n",
       " 'alexander',\n",
       " 'alike',\n",
       " 'all',\n",
       " 'allergy',\n",
       " 'allison',\n",
       " 'allot',\n",
       " 'allow',\n",
       " 'allowing',\n",
       " 'allows',\n",
       " 'almonds',\n",
       " 'almost',\n",
       " 'alone',\n",
       " 'along',\n",
       " 'alongside',\n",
       " 'alot',\n",
       " 'already',\n",
       " 'also',\n",
       " 'although',\n",
       " 'aluminum',\n",
       " 'always',\n",
       " 'am',\n",
       " 'amateurish',\n",
       " 'amaze',\n",
       " 'amazed',\n",
       " 'amazing',\n",
       " 'amazingly',\n",
       " 'amazon',\n",
       " 'ambiance',\n",
       " 'ambience',\n",
       " 'america',\n",
       " 'american',\n",
       " 'americans',\n",
       " 'among',\n",
       " 'amount',\n",
       " 'amp',\n",
       " 'ample',\n",
       " 'amusing',\n",
       " 'an',\n",
       " 'anatomist',\n",
       " 'and',\n",
       " 'andddd',\n",
       " 'angel',\n",
       " 'angela',\n",
       " 'angeles',\n",
       " 'angelina',\n",
       " 'angle',\n",
       " 'angles',\n",
       " 'angry',\n",
       " 'anguish',\n",
       " 'angus',\n",
       " 'animals',\n",
       " 'animated',\n",
       " 'animation',\n",
       " 'anita',\n",
       " 'ann',\n",
       " 'anne',\n",
       " 'anniversary',\n",
       " 'annoying',\n",
       " 'another',\n",
       " 'answer',\n",
       " 'ant',\n",
       " 'antena',\n",
       " 'anthony',\n",
       " 'anti',\n",
       " 'anticipated',\n",
       " 'antithesis',\n",
       " 'any',\n",
       " 'anymore',\n",
       " 'anyone',\n",
       " 'anything',\n",
       " 'anytime',\n",
       " 'anyway',\n",
       " 'anyways',\n",
       " 'anywhere',\n",
       " 'apart',\n",
       " 'apartment',\n",
       " 'apologize',\n",
       " 'apology',\n",
       " 'app',\n",
       " 'appalling',\n",
       " 'apparently',\n",
       " 'appealing',\n",
       " 'appearance',\n",
       " 'appears',\n",
       " 'appetite',\n",
       " 'appetizer',\n",
       " 'appetizers',\n",
       " 'applauded',\n",
       " 'applause',\n",
       " 'apple',\n",
       " 'applifies',\n",
       " 'appointments',\n",
       " 'appreciate',\n",
       " 'appropriate',\n",
       " 'approval',\n",
       " 'apt',\n",
       " 'are',\n",
       " 'area',\n",
       " 'aren',\n",
       " 'arepas',\n",
       " 'argued',\n",
       " 'arguing',\n",
       " 'aria',\n",
       " 'armageddon',\n",
       " 'armand',\n",
       " 'armband',\n",
       " 'around',\n",
       " 'array',\n",
       " 'arrival',\n",
       " 'arrived',\n",
       " 'arrives',\n",
       " 'arriving',\n",
       " 'art',\n",
       " 'article',\n",
       " 'articulated',\n",
       " 'artiness',\n",
       " 'artist',\n",
       " 'artistic',\n",
       " 'artless',\n",
       " 'arts',\n",
       " 'as',\n",
       " 'asia',\n",
       " 'aside',\n",
       " 'ask',\n",
       " 'asked',\n",
       " 'asking',\n",
       " 'asleep',\n",
       " 'aspect',\n",
       " 'aspects',\n",
       " 'ass',\n",
       " 'assante',\n",
       " 'assaulted',\n",
       " 'assistant',\n",
       " 'assumed',\n",
       " 'assure',\n",
       " 'astonishingly',\n",
       " 'astronaut',\n",
       " 'at',\n",
       " 'ate',\n",
       " 'atleast',\n",
       " 'atmosphere',\n",
       " 'atrocious',\n",
       " 'atrocity',\n",
       " 'att',\n",
       " 'attached',\n",
       " 'attack',\n",
       " 'attacked',\n",
       " 'attempt',\n",
       " 'attempted',\n",
       " 'attempting',\n",
       " 'attempts',\n",
       " 'attention',\n",
       " 'attentive',\n",
       " 'attitudes',\n",
       " 'attractive',\n",
       " 'audience',\n",
       " 'audio',\n",
       " 'auju',\n",
       " 'aurvåg',\n",
       " 'austen',\n",
       " 'austere',\n",
       " 'authentic',\n",
       " 'author',\n",
       " 'auto',\n",
       " 'available',\n",
       " 'average',\n",
       " 'aversion',\n",
       " 'avocado',\n",
       " 'avoid',\n",
       " 'avoided',\n",
       " 'avoiding',\n",
       " 'award',\n",
       " 'awarded',\n",
       " 'awards',\n",
       " 'away',\n",
       " 'awesome',\n",
       " 'awful',\n",
       " 'awkward',\n",
       " 'awkwardly',\n",
       " 'awsome',\n",
       " 'ayce',\n",
       " 'aye',\n",
       " 'az',\n",
       " 'baaaaaad',\n",
       " 'baba',\n",
       " 'babbling',\n",
       " 'babie',\n",
       " 'baby',\n",
       " 'babysitting',\n",
       " 'bachi',\n",
       " 'back',\n",
       " 'backdrop',\n",
       " 'backed',\n",
       " 'background',\n",
       " 'backlight',\n",
       " 'bacon',\n",
       " 'bad',\n",
       " 'badly',\n",
       " 'bag',\n",
       " 'bagels',\n",
       " 'bailey',\n",
       " 'bakery',\n",
       " 'baklava',\n",
       " 'balance',\n",
       " 'balanced',\n",
       " 'ball',\n",
       " 'ballet',\n",
       " 'balls',\n",
       " 'bamboo',\n",
       " 'banana',\n",
       " 'band',\n",
       " 'bank',\n",
       " 'bar',\n",
       " 'barcelona',\n",
       " 'bare',\n",
       " 'barely',\n",
       " 'bargain',\n",
       " 'barking',\n",
       " 'barney',\n",
       " 'barren',\n",
       " 'bars',\n",
       " 'bartender',\n",
       " 'bartenders',\n",
       " 'baseball',\n",
       " 'based',\n",
       " 'basement',\n",
       " 'basic',\n",
       " 'basically',\n",
       " 'bat',\n",
       " 'batch',\n",
       " 'bates',\n",
       " 'bathroom',\n",
       " 'bathrooms',\n",
       " 'batter',\n",
       " 'batteries',\n",
       " 'battery',\n",
       " 'baxendale',\n",
       " 'bay',\n",
       " 'bbq',\n",
       " 'be',\n",
       " 'bean',\n",
       " 'beans',\n",
       " 'bear',\n",
       " 'beat',\n",
       " 'beateous',\n",
       " 'beats',\n",
       " 'beautiful',\n",
       " 'beautifully',\n",
       " 'beauty',\n",
       " 'became',\n",
       " 'because',\n",
       " 'bechard',\n",
       " 'become',\n",
       " 'becomes',\n",
       " 'bed',\n",
       " 'beef',\n",
       " 'been',\n",
       " 'beep',\n",
       " 'beeping',\n",
       " 'beer',\n",
       " 'beers',\n",
       " 'before',\n",
       " 'began',\n",
       " 'begin',\n",
       " 'beginning',\n",
       " 'behind',\n",
       " 'behing',\n",
       " 'behold',\n",
       " 'being',\n",
       " 'bela',\n",
       " 'believable',\n",
       " 'believe',\n",
       " 'believed',\n",
       " 'bell',\n",
       " 'bellagio',\n",
       " 'bellies',\n",
       " 'bells',\n",
       " 'bellucci',\n",
       " 'belly',\n",
       " 'belmondo',\n",
       " 'below',\n",
       " 'belt',\n",
       " 'ben',\n",
       " 'bend',\n",
       " 'bendingly',\n",
       " 'bennett',\n",
       " 'bergen',\n",
       " 'bertolucci',\n",
       " 'besides',\n",
       " 'best',\n",
       " 'better',\n",
       " 'betty',\n",
       " 'between',\n",
       " 'beware',\n",
       " 'beyond',\n",
       " 'bible',\n",
       " 'big',\n",
       " 'bigger',\n",
       " 'biggest',\n",
       " 'bill',\n",
       " 'bills',\n",
       " 'billy',\n",
       " 'binge',\n",
       " 'biographical',\n",
       " 'bipolarity',\n",
       " 'bird',\n",
       " 'biscuit',\n",
       " 'biscuits',\n",
       " 'bisque',\n",
       " 'bit',\n",
       " 'bitches',\n",
       " 'bitchy',\n",
       " 'bite',\n",
       " 'bites',\n",
       " 'bitpim',\n",
       " 'bits',\n",
       " 'black',\n",
       " 'blackberry',\n",
       " 'blacktop',\n",
       " 'blah',\n",
       " 'blake',\n",
       " 'blame',\n",
       " 'bland',\n",
       " 'blandest',\n",
       " 'blandly',\n",
       " 'blanket',\n",
       " 'blare',\n",
       " 'blatant',\n",
       " 'blew',\n",
       " 'block',\n",
       " 'bloddy',\n",
       " 'blood',\n",
       " 'bloodiest',\n",
       " 'bloody',\n",
       " 'blow',\n",
       " 'blown',\n",
       " 'blows',\n",
       " 'blue',\n",
       " 'blueant',\n",
       " 'bluetoooth',\n",
       " 'bluetooth',\n",
       " 'bluetooths',\n",
       " 'blush',\n",
       " 'bmw',\n",
       " 'boasts',\n",
       " 'bob',\n",
       " 'boba',\n",
       " 'bodes',\n",
       " 'body',\n",
       " 'bohemian',\n",
       " 'boiled',\n",
       " 'boiling',\n",
       " 'bold',\n",
       " 'bombardments',\n",
       " 'bond',\n",
       " 'bonding',\n",
       " 'bone',\n",
       " 'bonus',\n",
       " 'bonuses',\n",
       " 'boobs',\n",
       " 'boogeyman',\n",
       " 'book',\n",
       " 'booking',\n",
       " 'boost',\n",
       " 'boot',\n",
       " 'bop',\n",
       " 'bordered',\n",
       " 'borderlines',\n",
       " 'borders',\n",
       " 'bore',\n",
       " 'bored',\n",
       " 'boring',\n",
       " 'borrowed',\n",
       " 'bose',\n",
       " 'boss',\n",
       " 'both',\n",
       " 'bother',\n",
       " 'bothersome',\n",
       " 'bottom',\n",
       " 'bottowm',\n",
       " 'bouchon',\n",
       " 'bought',\n",
       " 'bougth',\n",
       " 'bowl',\n",
       " 'box',\n",
       " 'boxes',\n",
       " 'boy',\n",
       " 'boyfriend',\n",
       " 'boyle',\n",
       " 'boys',\n",
       " 'brain',\n",
       " 'brainsucking',\n",
       " 'brand',\n",
       " 'brat',\n",
       " 'bread',\n",
       " 'break',\n",
       " 'breakage',\n",
       " 'breakfast',\n",
       " 'breaking',\n",
       " 'breaks',\n",
       " 'breeders',\n",
       " 'breeze',\n",
       " 'brevity',\n",
       " 'brian',\n",
       " 'brick',\n",
       " 'brief',\n",
       " 'brigand',\n",
       " 'bright',\n",
       " 'brilliance',\n",
       " 'brilliant',\n",
       " 'brilliantly',\n",
       " 'bring',\n",
       " 'brings',\n",
       " 'brisket',\n",
       " 'broad',\n",
       " 'broke',\n",
       " 'broken',\n",
       " 'brooding',\n",
       " 'brother',\n",
       " 'brought',\n",
       " 'brownish',\n",
       " 'browser',\n",
       " 'browsing',\n",
       " 'brunch',\n",
       " 'bruschetta',\n",
       " 'brushfire',\n",
       " 'brutal',\n",
       " 'bt',\n",
       " 'bt250v',\n",
       " 'bt50',\n",
       " 'bubbling',\n",
       " 'bucks',\n",
       " 'buddy',\n",
       " 'budget',\n",
       " 'buds',\n",
       " 'buffalo',\n",
       " 'buffet',\n",
       " 'buffets',\n",
       " 'bug',\n",
       " 'build',\n",
       " 'builders',\n",
       " 'building',\n",
       " 'buildings',\n",
       " 'built',\n",
       " 'buldogis',\n",
       " 'bulky',\n",
       " 'bullock',\n",
       " 'bully',\n",
       " 'bumpers',\n",
       " 'bunch',\n",
       " 'burger',\n",
       " 'burgers',\n",
       " 'burned',\n",
       " 'burrittos',\n",
       " 'burton',\n",
       " 'bus',\n",
       " 'business',\n",
       " 'businesses',\n",
       " 'bussell',\n",
       " 'busy',\n",
       " 'but',\n",
       " 'butter',\n",
       " 'button',\n",
       " 'buttons',\n",
       " 'buy',\n",
       " 'buyer',\n",
       " 'buyers',\n",
       " 'buying',\n",
       " 'buyit',\n",
       " 'buzzing',\n",
       " 'by',\n",
       " 'bye',\n",
       " 'ca',\n",
       " 'caballero',\n",
       " 'cable',\n",
       " 'cables',\n",
       " 'caesar',\n",
       " 'cafe',\n",
       " 'café',\n",
       " 'cailles',\n",
       " 'cake',\n",
       " 'cakes',\n",
       " 'calamari',\n",
       " 'calendar',\n",
       " 'california',\n",
       " 'call',\n",
       " 'called',\n",
       " 'calligraphy',\n",
       " 'callings',\n",
       " 'calls',\n",
       " 'came',\n",
       " 'camelback',\n",
       " 'cameo',\n",
       " 'camera',\n",
       " 'camerawork',\n",
       " 'camp',\n",
       " 'campy',\n",
       " 'can',\n",
       " 'canada',\n",
       " 'canal',\n",
       " 'cancan',\n",
       " 'cancellation',\n",
       " 'cancelling',\n",
       " 'candace',\n",
       " 'candle',\n",
       " 'cannoli',\n",
       " 'cannot',\n",
       " 'cant',\n",
       " 'capability',\n",
       " 'capacity',\n",
       " 'cape',\n",
       " 'capers',\n",
       " 'captain',\n",
       " 'captured',\n",
       " 'captures',\n",
       " 'car',\n",
       " 'carbs',\n",
       " 'card',\n",
       " 'cardboard',\n",
       " 'cardellini',\n",
       " 'care',\n",
       " 'careful',\n",
       " 'caring',\n",
       " 'carly',\n",
       " 'carol',\n",
       " 'carpaccio',\n",
       " 'carrell',\n",
       " 'carried',\n",
       " 'carriers',\n",
       " 'carries',\n",
       " 'carry',\n",
       " 'cars',\n",
       " 'cart',\n",
       " 'cartel',\n",
       " 'cartoon',\n",
       " 'cartoons',\n",
       " 'case',\n",
       " 'cases',\n",
       " 'cash',\n",
       " 'cashew',\n",
       " 'cashier',\n",
       " 'casing',\n",
       " 'casino',\n",
       " 'cassette',\n",
       " 'cast',\n",
       " 'casted',\n",
       " 'casting',\n",
       " 'cat',\n",
       " 'catching',\n",
       " 'catchy',\n",
       " 'caterpillar',\n",
       " 'caught',\n",
       " 'cause',\n",
       " 'caused',\n",
       " 'causing',\n",
       " 'cavier',\n",
       " 'cbr',\n",
       " 'cds',\n",
       " 'ceases',\n",
       " 'celebration',\n",
       " 'celebrity',\n",
       " 'cell',\n",
       " 'cellphone',\n",
       " 'cellphones',\n",
       " 'cellular',\n",
       " 'celluloid',\n",
       " 'cent',\n",
       " 'center',\n",
       " 'centers',\n",
       " 'central',\n",
       " 'century',\n",
       " 'certain',\n",
       " 'certainly',\n",
       " 'cg',\n",
       " 'cgi',\n",
       " 'chai',\n",
       " 'chains',\n",
       " 'chalkboard',\n",
       " 'challenges',\n",
       " 'chance',\n",
       " 'change',\n",
       " 'changes',\n",
       " 'changing',\n",
       " 'channel',\n",
       " 'char',\n",
       " 'character',\n",
       " 'characterisation',\n",
       " 'characters',\n",
       " 'charcoal',\n",
       " 'charge',\n",
       " 'charged',\n",
       " 'charger',\n",
       " 'chargers',\n",
       " 'charges',\n",
       " 'charging',\n",
       " 'charisma',\n",
       " 'charismatic',\n",
       " 'charles',\n",
       " 'charlie',\n",
       " 'charm',\n",
       " 'charming',\n",
       " 'chase',\n",
       " 'chasing',\n",
       " 'cheap',\n",
       " 'cheaper',\n",
       " 'cheaply',\n",
       " 'cheapy',\n",
       " 'cheated',\n",
       " 'check',\n",
       " 'checked',\n",
       " 'checking',\n",
       " 'cheek',\n",
       " 'cheekbones',\n",
       " 'cheerfull',\n",
       " 'cheerless',\n",
       " 'cheese',\n",
       " 'cheeseburger',\n",
       " 'cheesecurds',\n",
       " 'cheesiness',\n",
       " 'cheesy',\n",
       " 'chef',\n",
       " 'chefs',\n",
       " 'chemistry',\n",
       " 'chewy',\n",
       " 'chick',\n",
       " 'chicken',\n",
       " 'chickens',\n",
       " 'child',\n",
       " 'childhood',\n",
       " 'children',\n",
       " 'childrens',\n",
       " 'chills',\n",
       " 'chilly',\n",
       " 'chimp',\n",
       " 'china',\n",
       " 'chinese',\n",
       " 'chip',\n",
       " 'chipolte',\n",
       " 'chipotle',\n",
       " 'chips',\n",
       " 'chocolate',\n",
       " 'chodorov',\n",
       " 'choice',\n",
       " 'choices',\n",
       " 'choked',\n",
       " 'choose',\n",
       " 'chosen',\n",
       " 'choux',\n",
       " 'chow',\n",
       " 'christmas',\n",
       " 'christopher',\n",
       " 'church',\n",
       " 'cibo',\n",
       " 'cinema',\n",
       " 'cinematic',\n",
       " 'cinematographers',\n",
       " 'cinematography',\n",
       " 'cingulair',\n",
       " 'cingular',\n",
       " 'circumstances',\n",
       " 'claimed',\n",
       " 'clarity',\n",
       " 'class',\n",
       " 'classic',\n",
       " 'classical',\n",
       " 'classics',\n",
       " 'classy',\n",
       " 'clean',\n",
       " 'clear',\n",
       " 'clearer',\n",
       " 'clearly',\n",
       " 'clever',\n",
       " 'cliche',\n",
       " 'clichés',\n",
       " 'clicks',\n",
       " 'clients',\n",
       " 'cliff',\n",
       " 'climax',\n",
       " 'climbing',\n",
       " 'clip',\n",
       " 'clipping',\n",
       " 'clips',\n",
       " 'clock',\n",
       " 'close',\n",
       " 'closed',\n",
       " 'clothes',\n",
       " 'club',\n",
       " 'clue',\n",
       " 'co',\n",
       " 'coach',\n",
       " 'coal',\n",
       " 'coastal',\n",
       " 'coaster',\n",
       " 'cocktail',\n",
       " 'cocktails',\n",
       " 'coconut',\n",
       " 'cod',\n",
       " 'coffee',\n",
       " 'coherent',\n",
       " 'cold',\n",
       " 'colder',\n",
       " 'cole',\n",
       " 'colleague',\n",
       " 'collect',\n",
       " 'collective',\n",
       " 'college',\n",
       " 'color',\n",
       " 'colored',\n",
       " 'colorful',\n",
       " 'colors',\n",
       " 'colours',\n",
       " 'columbo',\n",
       " 'combination',\n",
       " 'combo',\n",
       " 'combos',\n",
       " 'come',\n",
       " 'comedic',\n",
       " 'comedy',\n",
       " 'comes',\n",
       " 'comfort',\n",
       " 'comfortable',\n",
       " 'comfortably',\n",
       " 'comfortible',\n",
       " 'comforting',\n",
       " 'comical',\n",
       " 'coming',\n",
       " 'commands',\n",
       " 'comment',\n",
       " 'commentary',\n",
       " 'commented',\n",
       " 'comments',\n",
       " 'commercial',\n",
       " 'commercials',\n",
       " 'common',\n",
       " 'communicate',\n",
       " 'communication',\n",
       " 'communications',\n",
       " 'community',\n",
       " 'commuter',\n",
       " 'companions',\n",
       " 'company',\n",
       " 'comparably',\n",
       " 'compared',\n",
       " 'compelling',\n",
       " 'compete',\n",
       " 'competent',\n",
       " 'competitors',\n",
       " 'complain',\n",
       " 'complained',\n",
       " 'complaint',\n",
       " 'complaints',\n",
       " 'complete',\n",
       " 'completed',\n",
       " 'completely',\n",
       " 'complex',\n",
       " 'complexity',\n",
       " 'compliments',\n",
       " 'composed',\n",
       " 'composition',\n",
       " 'comprehensible',\n",
       " 'compromise',\n",
       " 'computer',\n",
       " 'con',\n",
       " 'concentrate',\n",
       " 'concept',\n",
       " 'conception',\n",
       " 'conceptually',\n",
       " 'concern',\n",
       " 'concerning',\n",
       " 'concerns',\n",
       " 'concert',\n",
       " 'conclusion',\n",
       " 'concrete',\n",
       " 'condescends',\n",
       " 'condiment',\n",
       " 'conditions',\n",
       " 'confidence',\n",
       " 'configuration',\n",
       " 'confirm',\n",
       " 'conflict',\n",
       " 'confortable',\n",
       " 'confuses',\n",
       " 'confusing',\n",
       " 'connect',\n",
       " 'connected',\n",
       " 'connecting',\n",
       " 'connection',\n",
       " 'connections',\n",
       " 'connery',\n",
       " 'connisseur',\n",
       " 'connoisseur',\n",
       " 'connor',\n",
       " 'conrad',\n",
       " 'consequences',\n",
       " 'consider',\n",
       " 'considerable',\n",
       " 'considered',\n",
       " 'considering',\n",
       " 'considers',\n",
       " 'consistent',\n",
       " 'consolations',\n",
       " 'constant',\n",
       " 'constantine',\n",
       " 'constantly',\n",
       " 'constructed',\n",
       " 'construction',\n",
       " 'consumer',\n",
       " 'contact',\n",
       " 'contacted',\n",
       " 'contacting',\n",
       " 'contacts',\n",
       " 'contain',\n",
       " 'contained',\n",
       " 'containers',\n",
       " 'containing',\n",
       " 'contains',\n",
       " 'content',\n",
       " 'continually',\n",
       " 'continuation',\n",
       " 'continue',\n",
       " 'continues',\n",
       " 'continuity',\n",
       " 'continuously',\n",
       " ...]"
      ]
     },
     "execution_count": 329,
     "metadata": {},
     "output_type": "execute_result"
    }
   ],
   "source": [
    "# calculate the number of occurrences of each word\n",
    "# get the keywords for all the text in the bag with get_feature_names()\n",
    "vectorizer = TfidfVectorizer()\n",
    "vec = vectorizer.fit_transform(X.Sentence)\n",
    "vectorizer.get_feature_names()"
   ]
  },
  {
   "cell_type": "code",
   "execution_count": 330,
   "metadata": {},
   "outputs": [
    {
     "data": {
      "text/plain": [
       "array([[0., 0., 0., ..., 0., 0., 0.],\n",
       "       [0., 0., 0., ..., 0., 0., 0.],\n",
       "       [0., 0., 0., ..., 0., 0., 0.],\n",
       "       ...,\n",
       "       [0., 0., 0., ..., 0., 0., 0.],\n",
       "       [0., 0., 0., ..., 0., 0., 0.],\n",
       "       [0., 0., 0., ..., 0., 0., 0.]])"
      ]
     },
     "execution_count": 330,
     "metadata": {},
     "output_type": "execute_result"
    }
   ],
   "source": [
    "# the result of the word frequency matrix can be seen\n",
    "vec.toarray()"
   ]
  },
  {
   "cell_type": "code",
   "execution_count": 337,
   "metadata": {},
   "outputs": [
    {
     "data": {
      "text/plain": [
       "TfidfTransformer(norm='l2', smooth_idf=True, sublinear_tf=False, use_idf=True)"
      ]
     },
     "execution_count": 337,
     "metadata": {},
     "output_type": "execute_result"
    }
   ],
   "source": [
    "transformer = TfidfTransformer()\n",
    "transformer"
   ]
  },
  {
   "cell_type": "code",
   "execution_count": 338,
   "metadata": {},
   "outputs": [
    {
     "data": {
      "text/plain": [
       "array([[0., 0., 0., ..., 0., 0., 0.],\n",
       "       [0., 0., 0., ..., 0., 0., 0.],\n",
       "       [0., 0., 0., ..., 0., 0., 0.],\n",
       "       ...,\n",
       "       [0., 0., 0., ..., 0., 0., 0.],\n",
       "       [0., 0., 0., ..., 0., 0., 0.],\n",
       "       [0., 0., 0., ..., 0., 0., 0.]])"
      ]
     },
     "execution_count": 338,
     "metadata": {},
     "output_type": "execute_result"
    }
   ],
   "source": [
    "# count the TF-IDF value of each word in the vectorizer\n",
    "tfidf = transformer.fit_transform(X_counts)\n",
    "tfidf.toarray()"
   ]
  },
  {
   "cell_type": "markdown",
   "metadata": {},
   "source": [
    "## 3. Naive Bayes classifier"
   ]
  },
  {
   "cell_type": "code",
   "execution_count": 368,
   "metadata": {},
   "outputs": [],
   "source": [
    "from sklearn.model_selection import train_test_split\n",
    "from sklearn.naive_bayes import MultinomialNB"
   ]
  },
  {
   "cell_type": "code",
   "execution_count": 369,
   "metadata": {},
   "outputs": [],
   "source": [
    "# 70% training set and 30% testing set\n",
    "\n",
    "wf_train_x, wf_test_x, wf_train_y, wf_test_y = train_test_split(X_counts, X['Score'], test_size=0.3, random_state=0)"
   ]
  },
  {
   "cell_type": "code",
   "execution_count": 370,
   "metadata": {},
   "outputs": [],
   "source": [
    "tfidf_train_x, tfidf_test_x, tfidf_train_y, tfidf_test_y = train_test_split(tfidf, X['Score'], test_size=0.3, random_state=0)"
   ]
  },
  {
   "cell_type": "code",
   "execution_count": 371,
   "metadata": {},
   "outputs": [],
   "source": [
    "# build two seperate classifiers\n",
    "model = MultinomialNB()\n",
    "wf_fit = model.fit(wf_train_x, wf_train_y)\n",
    "tfidf_fit = model.fit(tfidf_train_x, tfidf_train_y)"
   ]
  },
  {
   "cell_type": "code",
   "execution_count": 386,
   "metadata": {},
   "outputs": [
    {
     "data": {
      "text/plain": [
       "0.9396551724137931"
      ]
     },
     "execution_count": 386,
     "metadata": {},
     "output_type": "execute_result"
    }
   ],
   "source": [
    "# the accuracy in training data using word frequency\n",
    "wf_fit.score(wf_train_x, wf_train_y)"
   ]
  },
  {
   "cell_type": "code",
   "execution_count": 387,
   "metadata": {},
   "outputs": [
    {
     "data": {
      "text/plain": [
       "0.9501915708812261"
      ]
     },
     "execution_count": 387,
     "metadata": {},
     "output_type": "execute_result"
    }
   ],
   "source": [
    "# the accuracy in training data using tf-idf\n",
    "tfidf_fit.score(tfidf_train_x, tfidf_train_y)"
   ]
  },
  {
   "cell_type": "code",
   "execution_count": 388,
   "metadata": {},
   "outputs": [
    {
     "data": {
      "text/plain": [
       "0.8245810055865922"
      ]
     },
     "execution_count": 388,
     "metadata": {},
     "output_type": "execute_result"
    }
   ],
   "source": [
    "# the accuracy in testing data using word frequency\n",
    "wf_fit.score(wf_test_x, wf_test_y)"
   ]
  },
  {
   "cell_type": "code",
   "execution_count": 389,
   "metadata": {},
   "outputs": [
    {
     "data": {
      "text/plain": [
       "0.823463687150838"
      ]
     },
     "execution_count": 389,
     "metadata": {},
     "output_type": "execute_result"
    }
   ],
   "source": [
    "# the accuracy in testing data using tf-idf\n",
    "tfidf_fit.score(tfidf_test_x, tfidf_test_y)"
   ]
  },
  {
   "cell_type": "markdown",
   "metadata": {},
   "source": [
    "### Comment on the differences"
   ]
  },
  {
   "cell_type": "markdown",
   "metadata": {},
   "source": [
    "In this data set, the classifier with **word frequency** training is a little **better** than TD-IDF.<br>\n",
    "In this case, the positive sentences have some common used words like good or best.<br>\n",
    "I think that makes the sentiment can be identified obviously."
   ]
  },
  {
   "cell_type": "markdown",
   "metadata": {},
   "source": [
    "## Fourth part"
   ]
  },
  {
   "cell_type": "markdown",
   "metadata": {},
   "source": [
    "**Inefficent parts I noticed**\n",
    "<br>\n",
    "<br>\n",
    "In this homework, I think **sampling** is redundant behavior because we finally use all data for training and testing set.\n",
    "<br>\n",
    "And I also not use the result of **discretization and binarization**, the reason may be we only have an attribute of two categorical values. It makes this very important pre-preprocessing technique useless in this case.\n",
    "<br>\n",
    "<br>\n",
    "**How to improve the Data preprocessing for these specific datasets**?\n",
    "<br>\n",
    "<br>\n",
    "1. Check missing values and duplicate data\n",
    "<br>\n",
    "2. Unigrams\n",
    "<br>\n",
    "3. Calculate term frequencies and tf-idf\n",
    "<br>\n",
    "4. Visualization\n",
    "<br>\n",
    "5. Observe data characteristics and what to do\n",
    "<br>\n",
    "6. Select the proportion of testing set(usually 20-30%)\n",
    "<br>\n",
    "7. Use two different features in classifier\n",
    "<br>\n",
    "8. Accuracy and visualization"
   ]
  },
  {
   "cell_type": "code",
   "execution_count": null,
   "metadata": {},
   "outputs": [],
   "source": []
  },
  {
   "cell_type": "code",
   "execution_count": null,
   "metadata": {},
   "outputs": [],
   "source": []
  }
 ],
 "metadata": {
  "kernelspec": {
   "display_name": "Python 3",
   "language": "python",
   "name": "python3"
  },
  "language_info": {
   "codemirror_mode": {
    "name": "ipython",
    "version": 3
   },
   "file_extension": ".py",
   "mimetype": "text/x-python",
   "name": "python",
   "nbconvert_exporter": "python",
   "pygments_lexer": "ipython3",
   "version": "3.7.2"
  }
 },
 "nbformat": 4,
 "nbformat_minor": 2
}
